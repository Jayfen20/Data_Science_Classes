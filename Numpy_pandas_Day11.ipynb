{
 "cells": [
  {
   "cell_type": "code",
   "execution_count": 1,
   "id": "ebab7711-d148-43c7-b59a-640d6371539f",
   "metadata": {},
   "outputs": [],
   "source": [
    "# get information about the business or the organization\n",
    "# know the problem at hand\n",
    "# getting the right data\n",
    "# EDA (exploratory data analysis)\n",
    "  # data cleaning\n",
    "  # data transformation\n",
    "  # descriptive analysis (python, powerbi, tableau)\n",
    "  # data visualization (python, powerbi, tableau)\n",
    "# machine learning(python) (Linear regression, binary classification, multiclassification, clustering, text or sentiment analysis)\n",
    "  # preprocessing\n",
    "  # model building\n",
    "  # Evaluation (verification)\n",
    "# Deep learning"
   ]
  },
  {
   "cell_type": "code",
   "execution_count": 2,
   "id": "4a3a8d29-f54c-45aa-b630-55059ffba753",
   "metadata": {},
   "outputs": [],
   "source": [
    "# NUMPY : NUMERICAL PYTHON\n",
    "import numpy as np"
   ]
  },
  {
   "cell_type": "code",
   "execution_count": 3,
   "id": "3e44bb69-dc31-401c-b181-a07cbcf848a1",
   "metadata": {},
   "outputs": [
    {
     "data": {
      "text/plain": [
       "array([75, 85, 60, 47])"
      ]
     },
     "execution_count": 3,
     "metadata": {},
     "output_type": "execute_result"
    }
   ],
   "source": [
    "arr1 = np.array([75,85,60,47])\n",
    "arr1"
   ]
  },
  {
   "cell_type": "code",
   "execution_count": 4,
   "id": "0f306808-418b-4f8b-8528-22a94459fc5d",
   "metadata": {},
   "outputs": [
    {
     "data": {
      "text/plain": [
       "1"
      ]
     },
     "execution_count": 4,
     "metadata": {},
     "output_type": "execute_result"
    }
   ],
   "source": [
    "arr1.ndim # checking the numbers of array dimension"
   ]
  },
  {
   "cell_type": "code",
   "execution_count": 5,
   "id": "e0a7c1eb-30c0-4536-856e-888f3aff85b5",
   "metadata": {},
   "outputs": [
    {
     "data": {
      "text/plain": [
       "(4,)"
      ]
     },
     "execution_count": 5,
     "metadata": {},
     "output_type": "execute_result"
    }
   ],
   "source": [
    "arr1.shape"
   ]
  },
  {
   "cell_type": "code",
   "execution_count": 6,
   "id": "f9791696-5ff9-499c-8d63-1b69433f0e86",
   "metadata": {},
   "outputs": [
    {
     "data": {
      "text/plain": [
       "dtype('int32')"
      ]
     },
     "execution_count": 6,
     "metadata": {},
     "output_type": "execute_result"
    }
   ],
   "source": [
    "arr1.dtype"
   ]
  },
  {
   "cell_type": "code",
   "execution_count": 7,
   "id": "79d79928-d4c8-4f21-9c38-3f46f153dd5d",
   "metadata": {},
   "outputs": [
    {
     "data": {
      "text/plain": [
       "array([[47, 85, 69, 60],\n",
       "       [80, 85, 64, 90]])"
      ]
     },
     "execution_count": 7,
     "metadata": {},
     "output_type": "execute_result"
    }
   ],
   "source": [
    "arr2 = np.array([[47,85,69,60],[80,85,64,90]])\n",
    "arr2"
   ]
  },
  {
   "cell_type": "code",
   "execution_count": 8,
   "id": "ddb6514f-0495-47ed-8c14-28176f123a02",
   "metadata": {},
   "outputs": [
    {
     "data": {
      "text/plain": [
       "2"
      ]
     },
     "execution_count": 8,
     "metadata": {},
     "output_type": "execute_result"
    }
   ],
   "source": [
    "arr2.ndim"
   ]
  },
  {
   "cell_type": "code",
   "execution_count": 9,
   "id": "d6489d26-9473-475d-9a3b-9375d35611d9",
   "metadata": {},
   "outputs": [
    {
     "data": {
      "text/plain": [
       "(2, 4)"
      ]
     },
     "execution_count": 9,
     "metadata": {},
     "output_type": "execute_result"
    }
   ],
   "source": [
    "arr2.shape"
   ]
  },
  {
   "cell_type": "code",
   "execution_count": 10,
   "id": "0ea89189-2e89-45cf-9134-5dd25368e719",
   "metadata": {},
   "outputs": [
    {
     "data": {
      "text/plain": [
       "dtype('int32')"
      ]
     },
     "execution_count": 10,
     "metadata": {},
     "output_type": "execute_result"
    }
   ],
   "source": [
    "arr2.dtype"
   ]
  },
  {
   "cell_type": "code",
   "execution_count": 11,
   "id": "f39392cd-02b7-4ba3-b231-50a55a4d9f9a",
   "metadata": {},
   "outputs": [
    {
     "data": {
      "text/plain": [
       "array([0., 0., 0., 0., 0., 0., 0., 0., 0., 0., 0., 0., 0., 0., 0., 0., 0.,\n",
       "       0., 0., 0.])"
      ]
     },
     "execution_count": 11,
     "metadata": {},
     "output_type": "execute_result"
    }
   ],
   "source": [
    "# creating an array where all values are zero\n",
    "np.zeros(20)"
   ]
  },
  {
   "cell_type": "code",
   "execution_count": 12,
   "id": "228f487b-15e3-402c-b6e6-5711beab1329",
   "metadata": {},
   "outputs": [
    {
     "data": {
      "text/plain": [
       "array([[0., 0., 0., 0., 0.],\n",
       "       [0., 0., 0., 0., 0.],\n",
       "       [0., 0., 0., 0., 0.],\n",
       "       [0., 0., 0., 0., 0.]])"
      ]
     },
     "execution_count": 12,
     "metadata": {},
     "output_type": "execute_result"
    }
   ],
   "source": [
    "np.zeros((4,5))"
   ]
  },
  {
   "cell_type": "code",
   "execution_count": 13,
   "id": "feb323ea-5750-45bc-9d0a-0d8f894f8e49",
   "metadata": {},
   "outputs": [
    {
     "data": {
      "text/plain": [
       "array([1., 1., 1., 1., 1., 1., 1., 1., 1., 1., 1., 1., 1., 1., 1., 1., 1.,\n",
       "       1., 1., 1., 1., 1., 1., 1., 1., 1., 1., 1., 1., 1., 1., 1., 1., 1.,\n",
       "       1., 1., 1., 1., 1., 1., 1., 1., 1., 1., 1., 1., 1., 1., 1., 1., 1.,\n",
       "       1., 1., 1., 1., 1., 1., 1., 1., 1.])"
      ]
     },
     "execution_count": 13,
     "metadata": {},
     "output_type": "execute_result"
    }
   ],
   "source": [
    "# creating an array where all values are one\n",
    "np.ones(60)"
   ]
  },
  {
   "cell_type": "code",
   "execution_count": 14,
   "id": "b952dec1-73b1-4a14-b826-2a4a3d940695",
   "metadata": {},
   "outputs": [
    {
     "data": {
      "text/plain": [
       "array([[1., 1., 1., 1., 1.],\n",
       "       [1., 1., 1., 1., 1.],\n",
       "       [1., 1., 1., 1., 1.],\n",
       "       [1., 1., 1., 1., 1.],\n",
       "       [1., 1., 1., 1., 1.]])"
      ]
     },
     "execution_count": 14,
     "metadata": {},
     "output_type": "execute_result"
    }
   ],
   "source": [
    "np.ones((5,5))"
   ]
  },
  {
   "cell_type": "code",
   "execution_count": 15,
   "id": "e5307072-6770-4248-98b0-2698afe18c93",
   "metadata": {},
   "outputs": [
    {
     "data": {
      "text/plain": [
       "array([[15., 15., 15., 15., 15.],\n",
       "       [15., 15., 15., 15., 15.],\n",
       "       [15., 15., 15., 15., 15.],\n",
       "       [15., 15., 15., 15., 15.],\n",
       "       [15., 15., 15., 15., 15.]])"
      ]
     },
     "execution_count": 15,
     "metadata": {},
     "output_type": "execute_result"
    }
   ],
   "source": [
    "np.ones((5,5)) * 15"
   ]
  },
  {
   "cell_type": "code",
   "execution_count": 16,
   "id": "291e1360-939f-46db-bea1-c7c53bd2355b",
   "metadata": {},
   "outputs": [
    {
     "data": {
      "text/plain": [
       "array([20.        , 21.02040816, 22.04081633, 23.06122449, 24.08163265,\n",
       "       25.10204082, 26.12244898, 27.14285714, 28.16326531, 29.18367347,\n",
       "       30.20408163, 31.2244898 , 32.24489796, 33.26530612, 34.28571429,\n",
       "       35.30612245, 36.32653061, 37.34693878, 38.36734694, 39.3877551 ,\n",
       "       40.40816327, 41.42857143, 42.44897959, 43.46938776, 44.48979592,\n",
       "       45.51020408, 46.53061224, 47.55102041, 48.57142857, 49.59183673,\n",
       "       50.6122449 , 51.63265306, 52.65306122, 53.67346939, 54.69387755,\n",
       "       55.71428571, 56.73469388, 57.75510204, 58.7755102 , 59.79591837,\n",
       "       60.81632653, 61.83673469, 62.85714286, 63.87755102, 64.89795918,\n",
       "       65.91836735, 66.93877551, 67.95918367, 68.97959184, 70.        ])"
      ]
     },
     "execution_count": 16,
     "metadata": {},
     "output_type": "execute_result"
    }
   ],
   "source": [
    "# linspace - creating arrays that are evenly spaced over a specified interval\n",
    "np.linspace(20,70)"
   ]
  },
  {
   "cell_type": "code",
   "execution_count": 17,
   "id": "9b9312c7-d682-4794-8b20-82858eae0a37",
   "metadata": {},
   "outputs": [
    {
     "data": {
      "text/plain": [
       "array([20.        , 21.42857143, 22.85714286, 24.28571429, 25.71428571,\n",
       "       27.14285714, 28.57142857, 30.        , 31.42857143, 32.85714286,\n",
       "       34.28571429, 35.71428571, 37.14285714, 38.57142857, 40.        ,\n",
       "       41.42857143, 42.85714286, 44.28571429, 45.71428571, 47.14285714,\n",
       "       48.57142857, 50.        , 51.42857143, 52.85714286, 54.28571429,\n",
       "       55.71428571, 57.14285714, 58.57142857, 60.        , 61.42857143,\n",
       "       62.85714286, 64.28571429, 65.71428571, 67.14285714, 68.57142857,\n",
       "       70.        , 71.42857143, 72.85714286, 74.28571429, 75.71428571,\n",
       "       77.14285714, 78.57142857, 80.        , 81.42857143, 82.85714286,\n",
       "       84.28571429, 85.71428571, 87.14285714, 88.57142857, 90.        ])"
      ]
     },
     "execution_count": 17,
     "metadata": {},
     "output_type": "execute_result"
    }
   ],
   "source": [
    "np.linspace(20,90)"
   ]
  },
  {
   "cell_type": "code",
   "execution_count": 18,
   "id": "4730a99c-5caf-45d1-993a-dcd5d2d0197f",
   "metadata": {},
   "outputs": [
    {
     "data": {
      "text/plain": [
       "array([20.        , 20.6122449 , 21.2244898 , 21.83673469, 22.44897959,\n",
       "       23.06122449, 23.67346939, 24.28571429, 24.89795918, 25.51020408,\n",
       "       26.12244898, 26.73469388, 27.34693878, 27.95918367, 28.57142857,\n",
       "       29.18367347, 29.79591837, 30.40816327, 31.02040816, 31.63265306,\n",
       "       32.24489796, 32.85714286, 33.46938776, 34.08163265, 34.69387755,\n",
       "       35.30612245, 35.91836735, 36.53061224, 37.14285714, 37.75510204,\n",
       "       38.36734694, 38.97959184, 39.59183673, 40.20408163, 40.81632653,\n",
       "       41.42857143, 42.04081633, 42.65306122, 43.26530612, 43.87755102,\n",
       "       44.48979592, 45.10204082, 45.71428571, 46.32653061, 46.93877551,\n",
       "       47.55102041, 48.16326531, 48.7755102 , 49.3877551 , 50.        ])"
      ]
     },
     "execution_count": 18,
     "metadata": {},
     "output_type": "execute_result"
    }
   ],
   "source": [
    "np.linspace(20,50)"
   ]
  },
  {
   "cell_type": "code",
   "execution_count": 19,
   "id": "3e730b9b-dcc8-4612-9b6d-62bb43200cdc",
   "metadata": {},
   "outputs": [
    {
     "data": {
      "text/plain": [
       "array([[1., 0., 0., 0., 0., 0.],\n",
       "       [0., 1., 0., 0., 0., 0.],\n",
       "       [0., 0., 1., 0., 0., 0.],\n",
       "       [0., 0., 0., 1., 0., 0.],\n",
       "       [0., 0., 0., 0., 1., 0.],\n",
       "       [0., 0., 0., 0., 0., 1.]])"
      ]
     },
     "execution_count": 19,
     "metadata": {},
     "output_type": "execute_result"
    }
   ],
   "source": [
    "np.eye(6) "
   ]
  },
  {
   "cell_type": "code",
   "execution_count": 20,
   "id": "e257808e-29f0-45e6-af6d-c0f7960d52c6",
   "metadata": {},
   "outputs": [
    {
     "data": {
      "text/plain": [
       "array([  1,   2,   3,   4,   5,   6,   7,   8,   9,  10,  11,  12,  13,\n",
       "        14,  15,  16,  17,  18,  19,  20,  21,  22,  23,  24,  25,  26,\n",
       "        27,  28,  29,  30,  31,  32,  33,  34,  35,  36,  37,  38,  39,\n",
       "        40,  41,  42,  43,  44,  45,  46,  47,  48,  49,  50,  51,  52,\n",
       "        53,  54,  55,  56,  57,  58,  59,  60,  61,  62,  63,  64,  65,\n",
       "        66,  67,  68,  69,  70,  71,  72,  73,  74,  75,  76,  77,  78,\n",
       "        79,  80,  81,  82,  83,  84,  85,  86,  87,  88,  89,  90,  91,\n",
       "        92,  93,  94,  95,  96,  97,  98,  99, 100])"
      ]
     },
     "execution_count": 20,
     "metadata": {},
     "output_type": "execute_result"
    }
   ],
   "source": [
    "arr4 = np.arange(1,101)\n",
    "arr4"
   ]
  },
  {
   "cell_type": "code",
   "execution_count": 21,
   "id": "bed522f4-11c3-4fe6-ad1d-c7bbacaf3297",
   "metadata": {},
   "outputs": [
    {
     "data": {
      "text/plain": [
       "array([ 1,  6, 11, 16, 21, 26, 31, 36, 41, 46, 51, 56, 61, 66, 71, 76, 81,\n",
       "       86, 91, 96])"
      ]
     },
     "execution_count": 21,
     "metadata": {},
     "output_type": "execute_result"
    }
   ],
   "source": [
    "arr4 = np.arange(1,101,5) # adding that five means it must take a step of five before the next value, same with other numbers\n",
    "arr4"
   ]
  },
  {
   "cell_type": "code",
   "execution_count": 22,
   "id": "a3d84df9-17bf-428c-b41b-f9f55b6cacbd",
   "metadata": {},
   "outputs": [
    {
     "data": {
      "text/plain": [
       "array([ 1, 11, 21, 31, 41, 51, 61, 71, 81, 91])"
      ]
     },
     "execution_count": 22,
     "metadata": {},
     "output_type": "execute_result"
    }
   ],
   "source": [
    "arr4 = np.arange(1,101,10)\n",
    "arr4"
   ]
  },
  {
   "cell_type": "code",
   "execution_count": 23,
   "id": "336696b1-c444-4f92-906c-c4190df17934",
   "metadata": {},
   "outputs": [
    {
     "data": {
      "text/plain": [
       "array([ 95,  75, 100,  83,  90,  35,  64,  40, 104,  43,  54,  18,  33,\n",
       "        73,  96,  63,  21,  92,  35,  62,  45,  62,  86,  75,  39,  42,\n",
       "        16,  80,  45,  86,  89,  68,  62,  62,  71, 101,  55,  75,  79,\n",
       "        60,  84,  32,  20,  67,  74,  50,  22,  27,  99,  31,  50,  77,\n",
       "        83,  24,  44,  97,  46,  61,  92,  62,  83,  78,  35,  77,  57,\n",
       "        22,  96,  77,  94, 102,  35,  88,  88,  54,  66,  66, 100,  45,\n",
       "        27,  98,  19,  42,  35,  81,  32,  98,  48,  41,  54, 101,  67,\n",
       "        95,  54,  57,  90,  71,  38,  97,  57,  32])"
      ]
     },
     "execution_count": 23,
     "metadata": {},
     "output_type": "execute_result"
    }
   ],
   "source": [
    "arr5 = np.random.randint(15,105,100)\n",
    "arr5"
   ]
  },
  {
   "cell_type": "code",
   "execution_count": 25,
   "id": "efad7f16-b90f-45af-9b71-37a6014a96a1",
   "metadata": {},
   "outputs": [
    {
     "data": {
      "text/plain": [
       "array([ 93,  76,  31,  88,  23,  77,  42,  45,  95,  22,  91,  30,  68,\n",
       "        95,  42,  59,  92,  90,  80,  62,  45,  99, 101,  33,  24,  56,\n",
       "        77,  16,  97,  31,  93,  20,  73,  15,  95,  19,  51,  66,  42,\n",
       "        46,  17,  83,  53,  98,  34,  33,  22,  45,  77,  26,  82,  80,\n",
       "        70,  18,  93,  42,  44,  48, 104, 100,  22,  31,  29,  46,  24,\n",
       "        53,  62,  31,  20,  49,  60,  74,  39,  28,  46,  47,  91,  59,\n",
       "        20,  29,  62,  97,  15,  22, 101,  31,  79,  23,  59,  52,  90,\n",
       "        20,  37,  67,  84,  97,  75,  44, 103,  94])"
      ]
     },
     "execution_count": 25,
     "metadata": {},
     "output_type": "execute_result"
    }
   ],
   "source": [
    "np.random.seed(5)\n",
    "arr5 = np.random.randint(15,105,100)\n",
    "arr5"
   ]
  },
  {
   "cell_type": "code",
   "execution_count": 26,
   "id": "9e6982e3-eb1a-4506-9e31-92bfcc0ae0df",
   "metadata": {},
   "outputs": [
    {
     "data": {
      "text/plain": [
       "array([[ 93,  76,  31,  88,  23,  77,  42,  45,  95,  22],\n",
       "       [ 91,  30,  68,  95,  42,  59,  92,  90,  80,  62],\n",
       "       [ 45,  99, 101,  33,  24,  56,  77,  16,  97,  31],\n",
       "       [ 93,  20,  73,  15,  95,  19,  51,  66,  42,  46],\n",
       "       [ 17,  83,  53,  98,  34,  33,  22,  45,  77,  26],\n",
       "       [ 82,  80,  70,  18,  93,  42,  44,  48, 104, 100],\n",
       "       [ 22,  31,  29,  46,  24,  53,  62,  31,  20,  49],\n",
       "       [ 60,  74,  39,  28,  46,  47,  91,  59,  20,  29],\n",
       "       [ 62,  97,  15,  22, 101,  31,  79,  23,  59,  52],\n",
       "       [ 90,  20,  37,  67,  84,  97,  75,  44, 103,  94]])"
      ]
     },
     "execution_count": 26,
     "metadata": {},
     "output_type": "execute_result"
    }
   ],
   "source": [
    "arr6 = arr5.reshape(10,10)\n",
    "arr6"
   ]
  },
  {
   "cell_type": "code",
   "execution_count": 27,
   "id": "0fa06aa8-db02-4719-83d7-44ab8a414f04",
   "metadata": {},
   "outputs": [
    {
     "data": {
      "text/plain": [
       "33"
      ]
     },
     "execution_count": 27,
     "metadata": {},
     "output_type": "execute_result"
    }
   ],
   "source": [
    "arr6[4,5] # selecting a particular number from the values. count the rows and columns starting from 0"
   ]
  },
  {
   "cell_type": "code",
   "execution_count": 28,
   "id": "c6406ac5-5793-4056-a8e6-59db0aab27b2",
   "metadata": {},
   "outputs": [
    {
     "data": {
      "text/plain": [
       "array([[15, 95, 19],\n",
       "       [98, 34, 33],\n",
       "       [18, 93, 42],\n",
       "       [46, 24, 53]])"
      ]
     },
     "execution_count": 28,
     "metadata": {},
     "output_type": "execute_result"
    }
   ],
   "source": [
    "arr6[3:7,3:6] # selecting various numbers"
   ]
  },
  {
   "cell_type": "code",
   "execution_count": 29,
   "id": "d14c6bf5-b802-415e-bd85-0fce56d4659f",
   "metadata": {},
   "outputs": [
    {
     "data": {
      "text/plain": [
       "array([[ 93,  76,  31,  88,  23,  77,  42,  45,  95,  22],\n",
       "       [ 91,  30,  68,  95,  42,  59,  92,  90,  80,  62],\n",
       "       [ 45,  99, 101,  33,  24,  56,  77,  16,  97,  31],\n",
       "       [ 93,  20,  73, 100, 100, 100,  51,  66,  42,  46],\n",
       "       [ 17,  83,  53, 100, 100, 100,  22,  45,  77,  26],\n",
       "       [ 82,  80,  70, 100, 100, 100,  44,  48, 104, 100],\n",
       "       [ 22,  31,  29, 100, 100, 100,  62,  31,  20,  49],\n",
       "       [ 60,  74,  39,  28,  46,  47,  91,  59,  20,  29],\n",
       "       [ 62,  97,  15,  22, 101,  31,  79,  23,  59,  52],\n",
       "       [ 90,  20,  37,  67,  84,  97,  75,  44, 103,  94]])"
      ]
     },
     "execution_count": 29,
     "metadata": {},
     "output_type": "execute_result"
    }
   ],
   "source": [
    "arr6[3:7,3:6] = 100  # broadcasting - means to change all the values to a single value\n",
    "arr6"
   ]
  },
  {
   "cell_type": "code",
   "execution_count": 30,
   "id": "baf182bf-7091-4dcf-9b78-6b5468349c3e",
   "metadata": {},
   "outputs": [
    {
     "data": {
      "text/plain": [
       "array([ 93,  76,  31,  88,  23,  77,  42,  45,  95,  22,  91,  30,  68,\n",
       "        95,  42,  59,  92,  90,  80,  62,  45,  99, 101,  33,  24,  56,\n",
       "        77,  16,  97,  31,  93,  20,  73, 100, 100, 100,  51,  66,  42,\n",
       "        46,  17,  83,  53, 100, 100, 100,  22,  45,  77,  26,  82,  80,\n",
       "        70, 100, 100, 100,  44,  48, 104, 100,  22,  31,  29, 100, 100,\n",
       "       100,  62,  31,  20,  49,  60,  74,  39,  28,  46,  47,  91,  59,\n",
       "        20,  29,  62,  97,  15,  22, 101,  31,  79,  23,  59,  52,  90,\n",
       "        20,  37,  67,  84,  97,  75,  44, 103,  94])"
      ]
     },
     "execution_count": 30,
     "metadata": {},
     "output_type": "execute_result"
    }
   ],
   "source": [
    "arr7 = arr6.flatten() # returning 2D to 1D\n",
    "arr7"
   ]
  },
  {
   "cell_type": "code",
   "execution_count": 31,
   "id": "77164827-b147-4cc5-b65c-1143ef8c0317",
   "metadata": {},
   "outputs": [
    {
     "data": {
      "text/plain": [
       "6311"
      ]
     },
     "execution_count": 31,
     "metadata": {},
     "output_type": "execute_result"
    }
   ],
   "source": [
    "np.sum(arr7)"
   ]
  },
  {
   "cell_type": "code",
   "execution_count": 32,
   "id": "0244ee22-5215-477c-b17a-e4ad7aeea208",
   "metadata": {},
   "outputs": [
    {
     "data": {
      "text/plain": [
       "104"
      ]
     },
     "execution_count": 32,
     "metadata": {},
     "output_type": "execute_result"
    }
   ],
   "source": [
    "np.max(arr7)"
   ]
  },
  {
   "cell_type": "code",
   "execution_count": 33,
   "id": "2bfe64cd-745e-434d-b7b2-c389bea48ed9",
   "metadata": {},
   "outputs": [
    {
     "data": {
      "text/plain": [
       "15"
      ]
     },
     "execution_count": 33,
     "metadata": {},
     "output_type": "execute_result"
    }
   ],
   "source": [
    "np.min(arr7)"
   ]
  },
  {
   "cell_type": "code",
   "execution_count": 34,
   "id": "75133c83-e032-4d29-af4c-5d15e489f032",
   "metadata": {},
   "outputs": [
    {
     "data": {
      "text/plain": [
       "62.0"
      ]
     },
     "execution_count": 34,
     "metadata": {},
     "output_type": "execute_result"
    }
   ],
   "source": [
    "np.percentile(arr7,50)"
   ]
  },
  {
   "cell_type": "code",
   "execution_count": 35,
   "id": "607c8ab8-cfbe-4343-808d-1218aed510bf",
   "metadata": {},
   "outputs": [
    {
     "data": {
      "text/plain": [
       "58"
      ]
     },
     "execution_count": 35,
     "metadata": {},
     "output_type": "execute_result"
    }
   ],
   "source": [
    "np.argmax(arr7) # return the value of the max location means it will find the location of the first 104 it can find"
   ]
  },
  {
   "cell_type": "code",
   "execution_count": null,
   "id": "702ac463-cfe3-4bd8-a312-43d0447e009a",
   "metadata": {},
   "outputs": [],
   "source": [
    "# to understand "
   ]
  }
 ],
 "metadata": {
  "kernelspec": {
   "display_name": "Python 3 (ipykernel)",
   "language": "python",
   "name": "python3"
  },
  "language_info": {
   "codemirror_mode": {
    "name": "ipython",
    "version": 3
   },
   "file_extension": ".py",
   "mimetype": "text/x-python",
   "name": "python",
   "nbconvert_exporter": "python",
   "pygments_lexer": "ipython3",
   "version": "3.11.7"
  }
 },
 "nbformat": 4,
 "nbformat_minor": 5
}
