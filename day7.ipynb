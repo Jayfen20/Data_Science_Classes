{
 "cells": [
  {
   "cell_type": "code",
   "execution_count": 1,
   "id": "217ba1e7-b217-4eb8-914f-fa9b8f1ee358",
   "metadata": {},
   "outputs": [],
   "source": [
    "# FUNCTION\n",
    "# NON-KEYWORD\n",
    "# KEYWORD"
   ]
  },
  {
   "cell_type": "code",
   "execution_count": 3,
   "id": "96821c58-8c3c-41a1-a6df-42fddd4a7006",
   "metadata": {},
   "outputs": [
    {
     "name": "stdout",
     "output_type": "stream",
     "text": [
      "The Average or Mean Score of the following numbers (78, 98, 58, 96, 90, 98, 97) is 87.86\n"
     ]
    }
   ],
   "source": [
    "def average(*numbers):\n",
    "    \"\"\"Return the average of the given numbers.\"\"\"\n",
    "    avg = sum(numbers)/ len(numbers)\n",
    "    print(f'The Average or Mean Score of the following numbers {numbers} is {round(avg,2)}')\n",
    "average(78,98,58,96,90,98,97)"
   ]
  },
  {
   "cell_type": "code",
   "execution_count": 4,
   "id": "4f176166-fbf5-41f1-ac05-3ecf0fb90665",
   "metadata": {},
   "outputs": [
    {
     "name": "stdout",
     "output_type": "stream",
     "text": [
      "The Average or Mean Score of the following numbers (100, 85, 98, 87, 75, 78, 68) is 84.43\n"
     ]
    }
   ],
   "source": [
    "# tupple unpacking\n",
    "score = [100,85,98,87,75,78,68]\n",
    "average(*score)"
   ]
  },
  {
   "cell_type": "code",
   "execution_count": 5,
   "id": "73ca43a5-7d57-4b3c-b9b3-26d79d745c5c",
   "metadata": {},
   "outputs": [
    {
     "name": "stdout",
     "output_type": "stream",
     "text": [
      "Name :: ['Sam', 'Faith', 'James']\n",
      "Age :: [25, 40, 30]\n",
      "Gender :: ['Male', 'Female', 'Male']\n"
     ]
    }
   ],
   "source": [
    "# variable length of keyword argument\n",
    "def registration_data(**details):\n",
    "    \"\"\"Function to register a user with the provided details.\"\"\"\n",
    "    for key, value in details.items():\n",
    "        print(f'{key} :: {value}')\n",
    "registration_data(Name = ['Sam','Faith','James'], Age = [25,40,30],Gender = ['Male','Female','Male'])"
   ]
  },
  {
   "cell_type": "code",
   "execution_count": 6,
   "id": "927fa20b-f7ee-41a0-9cf6-e418d177c6b2",
   "metadata": {},
   "outputs": [
    {
     "data": {
      "text/plain": [
       "93"
      ]
     },
     "execution_count": 6,
     "metadata": {},
     "output_type": "execute_result"
    }
   ],
   "source": [
    "## LAMBDA FUNCTION\n",
    "(lambda x,y: x + y)(75,18)"
   ]
  },
  {
   "cell_type": "code",
   "execution_count": 8,
   "id": "2e68fb6f-14dc-4c92-8172-1cc36362be10",
   "metadata": {},
   "outputs": [
    {
     "name": "stdin",
     "output_type": "stream",
     "text": [
      "Enter a password mean\n"
     ]
    },
    {
     "data": {
      "text/plain": [
       "'password length is below 8'"
      ]
     },
     "execution_count": 8,
     "metadata": {},
     "output_type": "execute_result"
    }
   ],
   "source": [
    "(lambda password: 'Password Length is above 8' if len(password) >=8 else 'password length is below 8') (input('Enter a password'))"
   ]
  },
  {
   "cell_type": "code",
   "execution_count": 9,
   "id": "298de71d-4f14-4f90-9ea1-a5cc8d1016e1",
   "metadata": {},
   "outputs": [
    {
     "name": "stdout",
     "output_type": "stream",
     "text": [
      "[10.0, 9.219544457292887, 9.899494936611665, 9.327379053088816, 8.660254037844387, 8.831760866327848, 8.246211251235321]\n"
     ]
    }
   ],
   "source": [
    "# MAP AND FILTER\n",
    "import math\n",
    "update_value = list(map(lambda x:math.sqrt(x), score))\n",
    "print(update_value)"
   ]
  },
  {
   "cell_type": "code",
   "execution_count": 10,
   "id": "b418fb5d-1c88-4774-9e29-7ff3ed27e61a",
   "metadata": {},
   "outputs": [
    {
     "name": "stdout",
     "output_type": "stream",
     "text": [
      "[10.0, 9.22, 9.9, 9.33, 8.66, 8.83, 8.25]\n"
     ]
    }
   ],
   "source": [
    "import math\n",
    "update_value = list(map(lambda x:round(math.sqrt(x),2), score))\n",
    "print(update_value)"
   ]
  },
  {
   "cell_type": "code",
   "execution_count": 11,
   "id": "06868901-980c-4681-919b-b23457d80aac",
   "metadata": {},
   "outputs": [
    {
     "name": "stdout",
     "output_type": "stream",
     "text": [
      "[100, 85, 98, 87]\n"
     ]
    }
   ],
   "source": [
    "update_value2 = list(filter(lambda x: x > 82,score))\n",
    "print(update_value2)"
   ]
  },
  {
   "cell_type": "code",
   "execution_count": 17,
   "id": "a2123731-a0f0-4022-a77e-2578fc5da9f5",
   "metadata": {},
   "outputs": [
    {
     "name": "stdout",
     "output_type": "stream",
     "text": [
      "[100, 98, 78, 68]\n"
     ]
    }
   ],
   "source": [
    "# EXERCISE\n",
    "## from score, filter out the odd and even numbers\n",
    "even_numbers = list(filter(lambda x: x%2 == 0,score))\n",
    "print(even_numbers)"
   ]
  },
  {
   "cell_type": "code",
   "execution_count": 18,
   "id": "9078c455-ccd6-4a63-80a1-f475558c20c0",
   "metadata": {},
   "outputs": [
    {
     "name": "stdout",
     "output_type": "stream",
     "text": [
      "[100, 98, 78, 68]\n",
      "[85, 87, 75]\n"
     ]
    }
   ],
   "source": [
    "even_numbers = list(filter(lambda x: x%2 == 0,score))\n",
    "odd_numbers = list(filter(lambda x: x % 2 == 1, score))\n",
    "print(even_numbers)\n",
    "print(odd_numbers)"
   ]
  },
  {
   "cell_type": "markdown",
   "id": "8a4e7d27-b84d-4d79-a4fa-2f50544f4e66",
   "metadata": {},
   "source": [
    "# DATE AND TIME"
   ]
  },
  {
   "cell_type": "code",
   "execution_count": 19,
   "id": "45721f82-adbf-442a-9d50-d59313d1f012",
   "metadata": {},
   "outputs": [
    {
     "name": "stdout",
     "output_type": "stream",
     "text": [
      "['MAXYEAR', 'MINYEAR', 'UTC', '__all__', '__builtins__', '__cached__', '__doc__', '__file__', '__loader__', '__name__', '__package__', '__spec__', 'date', 'datetime', 'datetime_CAPI', 'sys', 'time', 'timedelta', 'timezone', 'tzinfo']\n"
     ]
    }
   ],
   "source": [
    "import datetime\n",
    "print(dir(datetime))"
   ]
  },
  {
   "cell_type": "code",
   "execution_count": 20,
   "id": "3de2a349-2eb8-4b01-b78a-cf659f21ec78",
   "metadata": {},
   "outputs": [
    {
     "data": {
      "text/plain": [
       "datetime.date(2023, 5, 25)"
      ]
     },
     "execution_count": 20,
     "metadata": {},
     "output_type": "execute_result"
    }
   ],
   "source": [
    "date1 = datetime.date(2023,5,25)\n",
    "date1"
   ]
  },
  {
   "cell_type": "code",
   "execution_count": 21,
   "id": "3bad1d01-65c5-4ad2-aeed-0f33b1808e72",
   "metadata": {},
   "outputs": [
    {
     "name": "stdout",
     "output_type": "stream",
     "text": [
      "2023\n",
      "5\n",
      "25\n",
      "3\n",
      "4\n"
     ]
    }
   ],
   "source": [
    "print(date1.year)\n",
    "print(date1.month)\n",
    "print(date1.day)\n",
    "print(date1.weekday())\n",
    "print(date1.isoweekday())"
   ]
  },
  {
   "cell_type": "code",
   "execution_count": 22,
   "id": "5f9523c4-1118-4753-9021-d2c47a2f62a8",
   "metadata": {},
   "outputs": [
    {
     "name": "stdout",
     "output_type": "stream",
     "text": [
      "2024-08-30\n"
     ]
    }
   ],
   "source": [
    "current_date = datetime.date.today()\n",
    "print(current_date)"
   ]
  },
  {
   "cell_type": "code",
   "execution_count": 25,
   "id": "299ca353-8583-4bb6-8c94-6843599f652f",
   "metadata": {},
   "outputs": [
    {
     "name": "stdout",
     "output_type": "stream",
     "text": [
      "Friday\n",
      "Fri\n",
      "August\n",
      "Aug\n",
      "08\n",
      "30\n",
      "2024\n",
      "24\n",
      "30th of August, 2024\n",
      "243\n",
      "34\n"
     ]
    }
   ],
   "source": [
    "# STRFTIME\n",
    "print(current_date.strftime('%A')) #day\n",
    "print(current_date.strftime('%a')) # day short\n",
    "print(current_date.strftime('%B')) # month\n",
    "print(current_date.strftime('%b')) # month short\n",
    "print(current_date.strftime('%m')) # month in digits\n",
    "print(current_date.strftime('%d')) # day in digit\n",
    "print(current_date.strftime('%Y')) # year\n",
    "print(current_date.strftime('%y')) # week in the year\n",
    "print(current_date.strftime('%dth of %B, %Y')) # full presentation of date\n",
    "print(current_date.strftime('%j')) # day in the 365 days of the year\n",
    "print(current_date.strftime('%U')) # "
   ]
  },
  {
   "cell_type": "code",
   "execution_count": 26,
   "id": "1687b140-dfb6-4692-8715-45e5574ec3bb",
   "metadata": {},
   "outputs": [
    {
     "data": {
      "text/plain": [
       "datetime.time(12, 45, 50, 454587)"
      ]
     },
     "execution_count": 26,
     "metadata": {},
     "output_type": "execute_result"
    }
   ],
   "source": [
    "time1 = datetime.time(12,45,50,454587)\n",
    "time1"
   ]
  },
  {
   "cell_type": "code",
   "execution_count": 27,
   "id": "a8789564-05f6-403b-944b-6936114f486c",
   "metadata": {},
   "outputs": [
    {
     "data": {
      "text/plain": [
       "datetime.time(16, 54, 38, 1510)"
      ]
     },
     "execution_count": 27,
     "metadata": {},
     "output_type": "execute_result"
    }
   ],
   "source": [
    "current_time = datetime.datetime.now().time()\n",
    "current_time"
   ]
  },
  {
   "cell_type": "code",
   "execution_count": 28,
   "id": "88c2a228-bfb4-4af1-a9c5-cc54c9b172c4",
   "metadata": {},
   "outputs": [
    {
     "name": "stdout",
     "output_type": "stream",
     "text": [
      "16\n",
      "04\n",
      "54\n",
      "38\n",
      "001510\n",
      "PM\n",
      "1\n"
     ]
    }
   ],
   "source": [
    "print(current_time.strftime('%H')) # 24hr time\n",
    "print(current_time.strftime('%I')) # 12hr time\n",
    "print(current_time.strftime('%M')) # minutes\n",
    "print(current_time.strftime('%S')) # seconds\n",
    "print(current_time.strftime('%f')) # microseconds\n",
    "print(current_time.strftime('%p')) # am or pm\n",
    "print(current_time.strftime('%u')) # "
   ]
  },
  {
   "cell_type": "code",
   "execution_count": 30,
   "id": "498916e5-63ef-4a4b-be48-8c79546783a0",
   "metadata": {},
   "outputs": [
    {
     "name": "stdin",
     "output_type": "stream",
     "text": [
      "Enter your appointment date [mm/dd/yyyy]: 08/03/2024\n"
     ]
    },
    {
     "name": "stdout",
     "output_type": "stream",
     "text": [
      "2024-08-03\n"
     ]
    }
   ],
   "source": [
    "# STRPTIME \"parse\"\n",
    "strappdate = input('Enter your appointment date [mm/dd/yyyy]:')\n",
    "appdate = datetime.datetime.strptime(strappdate, '%m/%d/%Y').date()\n",
    "print(appdate)"
   ]
  },
  {
   "cell_type": "code",
   "execution_count": 31,
   "id": "4b951a67-b3aa-4252-853a-9b2fb5bfa555",
   "metadata": {},
   "outputs": [
    {
     "data": {
      "text/plain": [
       "datetime.timedelta(days=463)"
      ]
     },
     "execution_count": 31,
     "metadata": {},
     "output_type": "execute_result"
    }
   ],
   "source": [
    "# TIME DELTA\n",
    "current_date - date1"
   ]
  },
  {
   "cell_type": "code",
   "execution_count": 32,
   "id": "8d051aec-ca5b-4178-ae6e-4f9021ef0b39",
   "metadata": {},
   "outputs": [
    {
     "data": {
      "text/plain": [
       "datetime.date(2024, 4, 2)"
      ]
     },
     "execution_count": 32,
     "metadata": {},
     "output_type": "execute_result"
    }
   ],
   "source": [
    "current_date - datetime.timedelta(days =150)"
   ]
  },
  {
   "cell_type": "code",
   "execution_count": 33,
   "id": "09a13e5a-1688-4378-99c3-fa603587c1ba",
   "metadata": {},
   "outputs": [
    {
     "name": "stdin",
     "output_type": "stream",
     "text": [
      "Enter your appointment date [mm/dd/yyyy]: 12/9/2024\n"
     ]
    },
    {
     "name": "stdout",
     "output_type": "stream",
     "text": [
      "Hey user, you have 14 weeks and 3 days until your set appointment date\n"
     ]
    }
   ],
   "source": [
    "# write a program to tell a user how many days and weeks they have left until their appointment date from the current date\n",
    "strappdate = input('Enter your appointment date [mm/dd/yyyy]:')\n",
    "appdate = datetime.datetime.strptime(strappdate, '%m/%d/%Y').date()\n",
    "current_date = datetime.date.today()\n",
    "difference_in_days = appdate - current_date\n",
    "no_weeks = difference_in_days.days // 7\n",
    "no_days = difference_in_days.days % 7\n",
    "print(f'Hey user, you have {no_weeks} weeks and {no_days} days until your set appointment date')"
   ]
  },
  {
   "cell_type": "markdown",
   "id": "1177122b-fe89-4adf-80b5-ed93938cda22",
   "metadata": {},
   "source": [
    "# CLASS, OBJECT, SELF, ATTRIBUTE, METHODS, _INIT_, INHERITANCE"
   ]
  },
  {
   "cell_type": "code",
   "execution_count": null,
   "id": "738354e4-da90-45f7-9f7f-86ad30d3d04c",
   "metadata": {},
   "outputs": [],
   "source": []
  }
 ],
 "metadata": {
  "kernelspec": {
   "display_name": "Python 3 (ipykernel)",
   "language": "python",
   "name": "python3"
  },
  "language_info": {
   "codemirror_mode": {
    "name": "ipython",
    "version": 3
   },
   "file_extension": ".py",
   "mimetype": "text/x-python",
   "name": "python",
   "nbconvert_exporter": "python",
   "pygments_lexer": "ipython3",
   "version": "3.11.7"
  }
 },
 "nbformat": 4,
 "nbformat_minor": 5
}
