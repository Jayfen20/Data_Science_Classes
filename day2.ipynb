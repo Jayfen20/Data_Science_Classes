{
 "cells": [
  {
   "cell_type": "markdown",
   "id": "673472f7-3d40-4fa5-a0e5-53e9d38d9640",
   "metadata": {},
   "source": [
    "data type conversion "
   ]
  },
  {
   "cell_type": "code",
   "execution_count": 2,
   "id": "3493ec19-0a40-4e08-9f5c-2fb84284abc7",
   "metadata": {},
   "outputs": [
    {
     "name": "stdout",
     "output_type": "stream",
     "text": [
      "15\n"
     ]
    }
   ],
   "source": [
    "number = int(15.36)\n",
    "print(number)\n",
    "# float can be converted to int"
   ]
  },
  {
   "cell_type": "code",
   "execution_count": 3,
   "id": "a7d90aa9-8679-44f5-8a82-20658b910a18",
   "metadata": {},
   "outputs": [
    {
     "name": "stdout",
     "output_type": "stream",
     "text": [
      "15.0\n"
     ]
    }
   ],
   "source": [
    "print(float(number))\n",
    "# int can be converted to float"
   ]
  },
  {
   "cell_type": "code",
   "execution_count": 4,
   "id": "b7ca3cfd-83e2-4028-8e1d-cb617fb354bc",
   "metadata": {},
   "outputs": [
    {
     "name": "stdout",
     "output_type": "stream",
     "text": [
      "15\n"
     ]
    }
   ],
   "source": [
    "print(str(number))\n",
    "# float and integer can be converted to string"
   ]
  },
  {
   "cell_type": "code",
   "execution_count": 5,
   "id": "72822e7d-a7cc-45e6-869d-c7860c8c598e",
   "metadata": {},
   "outputs": [
    {
     "name": "stdout",
     "output_type": "stream",
     "text": [
      "45.0\n"
     ]
    }
   ],
   "source": [
    "print(float('45'))\n",
    "# str cannot be converted to float or int except the string value is a full digit value"
   ]
  },
  {
   "cell_type": "markdown",
   "id": "6db0549f-1e16-44d7-a462-060dc0e5af91",
   "metadata": {},
   "source": [
    "# input function"
   ]
  },
  {
   "cell_type": "code",
   "execution_count": 11,
   "id": "9cf3e597-dc6f-43cf-a97c-e140a767609b",
   "metadata": {},
   "outputs": [
    {
     "name": "stdin",
     "output_type": "stream",
     "text": [
      "please enter your name Jessica\n"
     ]
    }
   ],
   "source": [
    "name = input('please enter your name')"
   ]
  },
  {
   "cell_type": "code",
   "execution_count": 12,
   "id": "b720d97a-f583-4207-969c-d3afe6615a8f",
   "metadata": {},
   "outputs": [
    {
     "name": "stdout",
     "output_type": "stream",
     "text": [
      "Jessica\n"
     ]
    }
   ],
   "source": [
    "print(name)"
   ]
  },
  {
   "cell_type": "code",
   "execution_count": 13,
   "id": "4f035b79-4122-4724-98a7-16df23774f96",
   "metadata": {},
   "outputs": [
    {
     "name": "stdin",
     "output_type": "stream",
     "text": [
      "provide your net salary: 35000.58\n"
     ]
    }
   ],
   "source": [
    "Salary = float(input('provide your net salary:'))"
   ]
  },
  {
   "cell_type": "code",
   "execution_count": 14,
   "id": "cb6906f3-e0bc-4527-a5e0-a43b01adb0bd",
   "metadata": {},
   "outputs": [
    {
     "name": "stdout",
     "output_type": "stream",
     "text": [
      "35000.58\n"
     ]
    }
   ],
   "source": [
    "print(Salary)"
   ]
  },
  {
   "cell_type": "markdown",
   "id": "2074d18d-4774-4c74-96da-26cc757a17be",
   "metadata": {},
   "source": [
    "# OPERATORS"
   ]
  },
  {
   "cell_type": "markdown",
   "id": "b85601c2-6545-4a51-8653-6f397aa46d9b",
   "metadata": {},
   "source": [
    "### arithmetic operators\n",
    "### +: addition\n",
    "### -: subtraction\n",
    "### *: multiplication\n",
    "### /: division\n",
    "### %: modulus (remainder)\n",
    "### //: integer division\n",
    "### **: exponential (raise to power)"
   ]
  },
  {
   "cell_type": "code",
   "execution_count": 27,
   "id": "22323a95-00c8-4a70-833a-2fff8b461e8b",
   "metadata": {},
   "outputs": [
    {
     "name": "stdin",
     "output_type": "stream",
     "text": [
      "Enter number one value: 45\n",
      "Enter number two value: 6\n"
     ]
    },
    {
     "name": "stdout",
     "output_type": "stream",
     "text": [
      "45 + 6 = 51\n",
      "45 - 6 = 39\n",
      "45 * 6 = 270\n",
      "45 / 6 = 7.5\n",
      "45 % 6 = 3\n",
      "45 // 6 = 7\n",
      "45 ** 6 = 8303765625\n"
     ]
    }
   ],
   "source": [
    "num1 = int(input('Enter number one value:'))\n",
    "num2 = int(input('Enter number two value:'))\n",
    "print(f'{num1} + {num2} = {num1 + num2}')\n",
    "print(f'{num1} - {num2} = {num1 - num2}')\n",
    "print(f'{num1} * {num2} = {num1 * num2}')\n",
    "print(f'{num1} / {num2} = {num1 / num2}')\n",
    "print(f'{num1} % {num2} = {num1 % num2}')\n",
    "print(f'{num1} // {num2} = {num1 // num2}')\n",
    "print(f'{num1} ** {num2} = {num1 ** num2}')"
   ]
  },
  {
   "cell_type": "markdown",
   "id": "6953fbff-9c9e-4b06-8553-2b424335998f",
   "metadata": {},
   "source": [
    "# comparison operators"
   ]
  },
  {
   "cell_type": "code",
   "execution_count": 28,
   "id": "1a301686-6218-4065-9d42-48739719221c",
   "metadata": {},
   "outputs": [],
   "source": [
    "### >: Greater than\n",
    "### <: Less than\n",
    "### >=: Greater than or equal to\n",
    "### <= Less than or equal to\n",
    "### ==: Equal to\n",
    "### !=: Not equal to"
   ]
  },
  {
   "cell_type": "code",
   "execution_count": 29,
   "id": "8f2998f5-460b-43c0-ab61-8f5f47e36daf",
   "metadata": {},
   "outputs": [
    {
     "name": "stdin",
     "output_type": "stream",
     "text": [
      "Enter number one value: 100\n",
      "Enter number two value: 95\n"
     ]
    },
    {
     "name": "stdout",
     "output_type": "stream",
     "text": [
      "100 > 95 = True\n",
      "100 < 95 = False\n",
      "100 >= 95 = True\n",
      "100 <= 95 = False\n",
      "100 == 95 = False\n",
      "100 != 95 = True\n"
     ]
    }
   ],
   "source": [
    "num1 = int(input('Enter number one value:'))\n",
    "num2 = int(input('Enter number two value:'))\n",
    "print(f'{num1} > {num2} = {num1 > num2}')\n",
    "print(f'{num1} < {num2} = {num1 < num2}')\n",
    "print(f'{num1} >= {num2} = {num1 >= num2}')\n",
    "print(f'{num1} <= {num2} = {num1 <= num2}')\n",
    "print(f'{num1} == {num2} = {num1 == num2}')\n",
    "print(f'{num1} != {num2} = {num1 != num2}')"
   ]
  },
  {
   "cell_type": "code",
   "execution_count": 30,
   "id": "597390c8-58d3-40a5-9a92-ef842d3b3afb",
   "metadata": {},
   "outputs": [],
   "source": [
    "# LOGICAL OPERATORS\n",
    "# AND, OR, NOT"
   ]
  },
  {
   "cell_type": "code",
   "execution_count": 31,
   "id": "f5931772-c8fc-4663-8486-bda01068a880",
   "metadata": {},
   "outputs": [
    {
     "name": "stdout",
     "output_type": "stream",
     "text": [
      "True\n",
      "True\n",
      "False\n"
     ]
    }
   ],
   "source": [
    "print(num1 == num2 or num1 > num2)\n",
    "print(num1 != num2 and num1 > num2)\n",
    "print(not num1)"
   ]
  },
  {
   "cell_type": "code",
   "execution_count": 32,
   "id": "a43c01c2-542b-4362-be98-82043eff833a",
   "metadata": {},
   "outputs": [],
   "source": [
    "# IDENTITY OPERATOR\n",
    "## IS, IS NOT"
   ]
  },
  {
   "cell_type": "code",
   "execution_count": 33,
   "id": "bdbc85f0-42bc-45f4-bab6-386675d9b9cf",
   "metadata": {},
   "outputs": [
    {
     "name": "stdout",
     "output_type": "stream",
     "text": [
      "False\n",
      "True\n"
     ]
    }
   ],
   "source": [
    "print(num1 is num2)\n",
    "print(num1 is not num2)"
   ]
  },
  {
   "cell_type": "code",
   "execution_count": 34,
   "id": "740b5f34-b957-4b7d-8627-ee6c2eb70c22",
   "metadata": {},
   "outputs": [],
   "source": [
    "# MEMBERSHIP OPERATOR\n",
    "# IN, NOT IN"
   ]
  },
  {
   "cell_type": "code",
   "execution_count": 35,
   "id": "e9c1ddd1-609c-42cd-901e-b66cc02d05c6",
   "metadata": {},
   "outputs": [
    {
     "name": "stdout",
     "output_type": "stream",
     "text": [
      "False\n",
      "False\n"
     ]
    }
   ],
   "source": [
    "word = 'python'\n",
    "print('P' in word)\n",
    "print('p' not in word)"
   ]
  },
  {
   "cell_type": "code",
   "execution_count": 36,
   "id": "542fb30a-712c-4c04-8f5d-bfa28c857046",
   "metadata": {},
   "outputs": [],
   "source": [
    "# PROBLEM: PROFIT CALCULATION\n",
    "# MR A BOUGHT N PENS FOR N PRICE AND SOLD EACH PEN AT P PRICE CALCULATE THE PROFIT OF MR A"
   ]
  },
  {
   "cell_type": "code",
   "execution_count": 37,
   "id": "a1c859db-76a5-4943-a713-4f21bcf407a5",
   "metadata": {},
   "outputs": [
    {
     "name": "stdin",
     "output_type": "stream",
     "text": [
      "Enter numbers of pens bought: 1000\n",
      "Enter the cost price for the numbers of pen bought: 4000\n",
      "Enter the selling price for each pen: 250\n"
     ]
    },
    {
     "name": "stdout",
     "output_type": "stream",
     "text": [
      "The profit MR.A on 1000 pens bought is 246000.0\n"
     ]
    }
   ],
   "source": [
    "no_pens = int(input('Enter numbers of pens bought:'))\n",
    "costprice = float(input('Enter the cost price for the numbers of pen bought:'))\n",
    "sp_for_each_pen = float(input('Enter the selling price for each pen:'))\n",
    "total_selling_price = no_pens * sp_for_each_pen\n",
    "profit = total_selling_price - costprice\n",
    "print(f'The profit MR.A on {no_pens} pens bought is {profit}')"
   ]
  },
  {
   "cell_type": "markdown",
   "id": "9847c083-c1d0-43ac-8449-8343bbcbf2c0",
   "metadata": {},
   "source": [
    "# ASSIGNMENT"
   ]
  },
  {
   "cell_type": "code",
   "execution_count": 1,
   "id": "b3f9f150-073c-4560-8e42-033b79ae9e44",
   "metadata": {},
   "outputs": [],
   "source": [
    "### A rectangular cake is cut into 12 square slices with equal size. if the short side of the cake is 3cm, what is the length of the long side"
   ]
  },
  {
   "cell_type": "code",
   "execution_count": 15,
   "id": "e6bf27f8-a88b-445d-9b0e-47980e1d8c79",
   "metadata": {},
   "outputs": [
    {
     "name": "stdin",
     "output_type": "stream",
     "text": [
      "enter length of short side: 3\n",
      "enter number of slices: 12\n"
     ]
    },
    {
     "name": "stdout",
     "output_type": "stream",
     "text": [
      "Length of long side 24.0\n"
     ]
    }
   ],
   "source": [
    "short_side = float(input('enter length of short side:'))\n",
    "num_slices = int(input('enter number of slices:'))\n",
    "side_length_of_slice = short_side\n",
    "total_area = num_slices * (side_length_of_slice * 2)\n",
    "long_side = total_area / short_side\n",
    "print(f'Length of long side {long_side}')"
   ]
  },
  {
   "cell_type": "code",
   "execution_count": 16,
   "id": "cbc05bb0-b5aa-44ea-a28a-1b0403b1defe",
   "metadata": {},
   "outputs": [],
   "source": [
    "### 2; Michael has saved $15. he wants to buy a video game that costs $42. how much more money does he need to save? "
   ]
  },
  {
   "cell_type": "code",
   "execution_count": 17,
   "id": "bcfac30d-e842-4bf6-8bda-2d00e5110c84",
   "metadata": {},
   "outputs": [
    {
     "name": "stdin",
     "output_type": "stream",
     "text": [
      "enter amount saved: 15\n",
      "enter the cost for the video game: 42\n"
     ]
    },
    {
     "name": "stdout",
     "output_type": "stream",
     "text": [
      "final savings 27.0\n"
     ]
    }
   ],
   "source": [
    "savings = int(input('enter amount saved:'))\n",
    "cost_of_video_game = float(input('enter the cost for the video game:'))\n",
    "final_savings = cost_of_video_game - savings\n",
    "print(f'final savings {final_savings}')"
   ]
  },
  {
   "cell_type": "code",
   "execution_count": 18,
   "id": "823667cb-6992-43c4-9f85-cc37cbe2a20f",
   "metadata": {},
   "outputs": [],
   "source": [
    "### 3; A bag contains 3 red marbles, 5 blue marbles, and 2 green marbles. what is the total number of marbles in the bag?"
   ]
  },
  {
   "cell_type": "code",
   "execution_count": 21,
   "id": "7b26929f-7e7a-491f-9266-dc393dffce0c",
   "metadata": {},
   "outputs": [
    {
     "name": "stdin",
     "output_type": "stream",
     "text": [
      "enter number of red marbles: 3\n",
      "enter number of blue marbles: 5\n",
      "enter number of green marbles: 2\n"
     ]
    },
    {
     "name": "stdout",
     "output_type": "stream",
     "text": [
      "total no of marbles in bag 10\n"
     ]
    }
   ],
   "source": [
    "no_of_red_marbles = int(input('enter number of red marbles:'))\n",
    "no_of_blue_marbles = int(input('enter number of blue marbles:'))\n",
    "no_of_green_marbles = int(input('enter number of green marbles:'))\n",
    "total_no_of_marbles = no_of_red_marbles + no_of_blue_marbles + no_of_green_marbles\n",
    "print(f'total no of marbles in bag {total_no_of_marbles}')"
   ]
  },
  {
   "cell_type": "code",
   "execution_count": 22,
   "id": "0c149d2d-46f9-494a-9900-5a40072c8ce4",
   "metadata": {},
   "outputs": [],
   "source": [
    "### 4; A train leaves station A at 9:00 am and arrives at station B 180km away at 1:00 pm. how many hours did the train travel"
   ]
  },
  {
   "cell_type": "code",
   "execution_count": 38,
   "id": "48b9edc0-b53e-4bb7-9eb7-1d1d7c5b1150",
   "metadata": {},
   "outputs": [
    {
     "name": "stdin",
     "output_type": "stream",
     "text": [
      "enter departure time: 9\n",
      "enter arrival time: 13\n"
     ]
    },
    {
     "name": "stdout",
     "output_type": "stream",
     "text": [
      "hours train travelled 4\n"
     ]
    }
   ],
   "source": [
    "time_train_leaves = int(input('enter departure time:'))\n",
    "time_train_arrives = int(input(\"enter arrival time:\"))\n",
    "time_spent_on_travel = time_train_arrives - time_train_leaves\n",
    "print(f'hours train travelled {time_spent_on_travel}')"
   ]
  },
  {
   "cell_type": "code",
   "execution_count": null,
   "id": "8e44f9fa-0e04-4ef2-b7a6-3546ff281bd5",
   "metadata": {},
   "outputs": [],
   "source": []
  }
 ],
 "metadata": {
  "kernelspec": {
   "display_name": "Python 3 (ipykernel)",
   "language": "python",
   "name": "python3"
  },
  "language_info": {
   "codemirror_mode": {
    "name": "ipython",
    "version": 3
   },
   "file_extension": ".py",
   "mimetype": "text/x-python",
   "name": "python",
   "nbconvert_exporter": "python",
   "pygments_lexer": "ipython3",
   "version": "3.11.7"
  }
 },
 "nbformat": 4,
 "nbformat_minor": 5
}
