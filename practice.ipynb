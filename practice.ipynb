{
 "cells": [
  {
   "cell_type": "code",
   "execution_count": 2,
   "id": "aee8b3fd-6de0-4d64-aa61-2d34d0042129",
   "metadata": {},
   "outputs": [
    {
     "name": "stdout",
     "output_type": "stream",
     "text": [
      "orange\n",
      "green\n",
      "blue\n"
     ]
    }
   ],
   "source": [
    "x,y,z = 'orange','green','blue'\n",
    "print(x)\n",
    "print(y)\n",
    "print(z)"
   ]
  },
  {
   "cell_type": "code",
   "execution_count": 3,
   "id": "94dc6b28-e70b-40eb-af5e-6126b1e722b4",
   "metadata": {},
   "outputs": [
    {
     "name": "stdin",
     "output_type": "stream",
     "text": [
      "Enter Your Name: Jessica\n"
     ]
    },
    {
     "name": "stdout",
     "output_type": "stream",
     "text": [
      "Jessica\n"
     ]
    }
   ],
   "source": [
    "Name = input('Enter Your Name:')\n",
    "print(Name)"
   ]
  },
  {
   "cell_type": "code",
   "execution_count": 4,
   "id": "db7f1f14-c67e-4732-b91f-b2421cb116f4",
   "metadata": {},
   "outputs": [
    {
     "name": "stdin",
     "output_type": "stream",
     "text": [
      "What is your name jessica\n"
     ]
    },
    {
     "name": "stdout",
     "output_type": "stream",
     "text": [
      "Hello jessica, welcome to python class\n"
     ]
    }
   ],
   "source": [
    "name = input('What is your name')\n",
    "print(f\"Hello {name}, welcome to python class\")"
   ]
  },
  {
   "cell_type": "code",
   "execution_count": 5,
   "id": "38715cc4-15e5-4462-a237-176a775f8944",
   "metadata": {},
   "outputs": [
    {
     "name": "stdout",
     "output_type": "stream",
     "text": [
      "<class 'int'>\n"
     ]
    }
   ],
   "source": [
    "age = 23\n",
    "print(type(age))"
   ]
  },
  {
   "cell_type": "code",
   "execution_count": 6,
   "id": "56db4c08-a461-4bff-a1eb-fe107f2996ef",
   "metadata": {},
   "outputs": [
    {
     "name": "stdout",
     "output_type": "stream",
     "text": [
      "<class 'float'>\n"
     ]
    }
   ],
   "source": [
    "dollars = 299.99\n",
    "print(type(dollars))"
   ]
  },
  {
   "cell_type": "code",
   "execution_count": null,
   "id": "7577f289-19b0-4f9a-b1dd-ce19b4c280b9",
   "metadata": {},
   "outputs": [],
   "source": [
    "#margareth shakarau"
   ]
  },
  {
   "cell_type": "code",
   "execution_count": 2,
   "id": "ca16d31a-ed6f-4dae-8ba5-9058636bb7f5",
   "metadata": {},
   "outputs": [
    {
     "name": "stdout",
     "output_type": "stream",
     "text": [
      "256\n"
     ]
    }
   ],
   "source": [
    "print(pow(4,4))"
   ]
  },
  {
   "cell_type": "code",
   "execution_count": 4,
   "id": "5ade0bb4-6268-49cc-a7d2-e8ec965b91e9",
   "metadata": {},
   "outputs": [
    {
     "name": "stdout",
     "output_type": "stream",
     "text": [
      "0b10\n"
     ]
    }
   ],
   "source": [
    "print(bin(2))"
   ]
  },
  {
   "cell_type": "code",
   "execution_count": 5,
   "id": "22f58d09-0918-4519-ad96-904e63a9f312",
   "metadata": {},
   "outputs": [
    {
     "name": "stdout",
     "output_type": "stream",
     "text": [
      "3\n"
     ]
    }
   ],
   "source": [
    "print(round(3.142))"
   ]
  },
  {
   "cell_type": "code",
   "execution_count": 6,
   "id": "b448566d-9717-4417-8f0b-fe884d2f0fc0",
   "metadata": {},
   "outputs": [
    {
     "name": "stdout",
     "output_type": "stream",
     "text": [
      "50\n"
     ]
    }
   ],
   "source": [
    "print(abs(-50))# changes to positive"
   ]
  },
  {
   "cell_type": "code",
   "execution_count": 8,
   "id": "1c1aba65-a8d6-4206-8a9c-2ce9bcea4bb4",
   "metadata": {},
   "outputs": [
    {
     "name": "stdout",
     "output_type": "stream",
     "text": [
      "87.62\n"
     ]
    }
   ],
   "source": [
    "total_bill = 350.50\n",
    "no_of_guests = 4\n",
    "bill_per_person = round(total_bill / no_of_guests,2)\n",
    "print(bill_per_person)"
   ]
  },
  {
   "cell_type": "code",
   "execution_count": null,
   "id": "11311686-6342-46de-b997-60c625ee51bc",
   "metadata": {},
   "outputs": [],
   "source": [
    "children = input('Enter number of children')\n",
    "balance = input('Enter account balance')"
   ]
  },
  {
   "cell_type": "code",
   "execution_count": 1,
   "id": "9ef2ad6b-0a27-4d70-8239-0211a402e1d6",
   "metadata": {},
   "outputs": [
    {
     "data": {
      "text/plain": [
       "23.0"
      ]
     },
     "execution_count": 1,
     "metadata": {},
     "output_type": "execute_result"
    }
   ],
   "source": [
    "age = 23\n",
    "float(age)"
   ]
  },
  {
   "cell_type": "code",
   "execution_count": 2,
   "id": "3077cd46-7178-43e0-87b6-53c14b29db6f",
   "metadata": {},
   "outputs": [
    {
     "data": {
      "text/plain": [
       "23"
      ]
     },
     "execution_count": 2,
     "metadata": {},
     "output_type": "execute_result"
    }
   ],
   "source": [
    "int(age)"
   ]
  },
  {
   "cell_type": "code",
   "execution_count": 4,
   "id": "9f84a308-bbc1-4cf2-ae5e-4a6fd955d1a0",
   "metadata": {},
   "outputs": [
    {
     "ename": "NameError",
     "evalue": "name 'astype' is not defined",
     "output_type": "error",
     "traceback": [
      "\u001b[1;31m---------------------------------------------------------------------------\u001b[0m",
      "\u001b[1;31mNameError\u001b[0m                                 Traceback (most recent call last)",
      "Cell \u001b[1;32mIn[4], line 1\u001b[0m\n\u001b[1;32m----> 1\u001b[0m total_bill \u001b[38;5;241m=\u001b[39m astype(\u001b[38;5;241m350.50\u001b[39m)\n",
      "\u001b[1;31mNameError\u001b[0m: name 'astype' is not defined"
     ]
    }
   ],
   "source": [
    "total_bill = astype(350.50)"
   ]
  },
  {
   "cell_type": "code",
   "execution_count": null,
   "id": "8a761071-f0e1-4a93-bea4-26a758f4a185",
   "metadata": {},
   "outputs": [],
   "source": []
  },
  {
   "cell_type": "code",
   "execution_count": null,
   "id": "8f2a7425-c133-4e8a-9cee-5ebbc5cd8c31",
   "metadata": {},
   "outputs": [],
   "source": []
  }
 ],
 "metadata": {
  "kernelspec": {
   "display_name": "Python 3 (ipykernel)",
   "language": "python",
   "name": "python3"
  },
  "language_info": {
   "codemirror_mode": {
    "name": "ipython",
    "version": 3
   },
   "file_extension": ".py",
   "mimetype": "text/x-python",
   "name": "python",
   "nbconvert_exporter": "python",
   "pygments_lexer": "ipython3",
   "version": "3.11.7"
  }
 },
 "nbformat": 4,
 "nbformat_minor": 5
}
