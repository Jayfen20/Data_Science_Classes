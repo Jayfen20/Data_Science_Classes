{
 "cells": [
  {
   "cell_type": "markdown",
   "id": "02906448-0d25-4be0-84a0-44ae20c94fe6",
   "metadata": {},
   "source": [
    "# IF ELSE IF ELSE"
   ]
  },
  {
   "cell_type": "code",
   "execution_count": 29,
   "id": "eaa90d30-cc01-499e-b381-eeb9a92064d0",
   "metadata": {},
   "outputs": [
    {
     "name": "stdin",
     "output_type": "stream",
     "text": [
      "Enter customer loan eligibility score: 52\n"
     ]
    },
    {
     "name": "stdout",
     "output_type": "stream",
     "text": [
      "customers score is poor\n"
     ]
    }
   ],
   "source": [
    "# LOAN ELIGIBILITY: create a program that determines loan eligibility based on credit score:\n",
    "# Excellent (750+), Good (700-749),\n",
    "# Fair (650-699), Poor (below 650).\n",
    "loan_eligibility_score = float(input('Enter customer loan eligibility score:'))\n",
    "if loan_eligibility_score >=750:\n",
    "    print('customers score is excellent')\n",
    "elif loan_eligibility_score >=700 and loan_eligibility_score <=749:\n",
    "    print('customers score is good')\n",
    "elif loan_eligibility_score >=650 and loan_eligibility_score <=699:\n",
    "    print('customers score is fair')\n",
    "elif loan_eligibility_score < 650 :\n",
    "    print('customers score is poor')"
   ]
  },
  {
   "cell_type": "code",
   "execution_count": 9,
   "id": "e9cf5544-1b42-4569-b830-126e74b50dd4",
   "metadata": {},
   "outputs": [
    {
     "name": "stdin",
     "output_type": "stream",
     "text": [
      "Enter the day of the week: thursday\n"
     ]
    },
    {
     "name": "stdout",
     "output_type": "stream",
     "text": [
      "history or physical education\n"
     ]
    }
   ],
   "source": [
    "# school timetable: assign a class based on the day of the week: math(monday), science(tuesday), english(wednesday), \n",
    "# history(thursday), physical education(friday)\n",
    "timetable = str(input('Enter the day of the week:'))\n",
    "if timetable == 'Monday':\n",
    "    print('math')\n",
    "elif timetable == 'tuesday' or timetable == 'wednesday':\n",
    "    print('science or english')\n",
    "elif timetable == 'thursday' or timetable == 'friday':\n",
    "    print('history or physical education')"
   ]
  },
  {
   "cell_type": "code",
   "execution_count": 10,
   "id": "c5e75a44-ed79-423e-808b-5286aa87de7d",
   "metadata": {},
   "outputs": [
    {
     "name": "stdin",
     "output_type": "stream",
     "text": [
      "Enter the day of the week: tuesday\n"
     ]
    },
    {
     "name": "stdout",
     "output_type": "stream",
     "text": [
      "science\n"
     ]
    }
   ],
   "source": [
    "timetable = str(input('Enter the day of the week:'))\n",
    "if timetable == 'Monday':\n",
    "    print('math')\n",
    "elif timetable == 'tuesday':\n",
    "    print('science')\n",
    "elif timetable == 'wednesday':\n",
    "    print('english')\n",
    "elif timetable == 'thursday':\n",
    "    print('history')\n",
    "elif timetable == 'friday':\n",
    "    print('physical education')"
   ]
  },
  {
   "cell_type": "code",
   "execution_count": 11,
   "id": "6536d424-1b6e-4a22-a2ba-e8c8acf1a48c",
   "metadata": {},
   "outputs": [],
   "source": [
    "# LOOPS: FOR LOOP, WHILE LOOP"
   ]
  },
  {
   "cell_type": "code",
   "execution_count": 12,
   "id": "ded5bc42-7bd5-4194-858c-3d15fbe59f64",
   "metadata": {},
   "outputs": [
    {
     "name": "stdout",
     "output_type": "stream",
     "text": [
      "sss\n",
      "ccc\n",
      "hhh\n",
      "ooo\n",
      "ooo\n",
      "lll\n"
     ]
    }
   ],
   "source": [
    "word = 'school'\n",
    "for x in word:\n",
    "    print(x * 3)"
   ]
  },
  {
   "cell_type": "code",
   "execution_count": 13,
   "id": "8b113982-430d-44a6-95e6-23e7f4ff5666",
   "metadata": {},
   "outputs": [
    {
     "name": "stdout",
     "output_type": "stream",
     "text": [
      "sssccchhhoooooolll"
     ]
    }
   ],
   "source": [
    "word = 'school'\n",
    "for x in word:\n",
    "    print(x * 3, end ='')"
   ]
  },
  {
   "cell_type": "code",
   "execution_count": 14,
   "id": "8215c23c-7fbc-4626-be75-49c94e655088",
   "metadata": {},
   "outputs": [
    {
     "name": "stdout",
     "output_type": "stream",
     "text": [
      "sss ccc hhh ooo ooo lll "
     ]
    }
   ],
   "source": [
    "word = 'school'\n",
    "for x in word:\n",
    "    print(x * 3, end =' ')"
   ]
  },
  {
   "cell_type": "code",
   "execution_count": 15,
   "id": "91691489-903e-4ab0-83e5-f12e96247734",
   "metadata": {},
   "outputs": [
    {
     "name": "stdout",
     "output_type": "stream",
     "text": [
      "sss/ccc/hhh/ooo/ooo/lll/"
     ]
    }
   ],
   "source": [
    "word = 'school'\n",
    "for x in word:\n",
    "    print(x * 3, end ='/')"
   ]
  },
  {
   "cell_type": "code",
   "execution_count": 16,
   "id": "8aabe711-1c5f-4e48-b3ac-aab370345e2c",
   "metadata": {},
   "outputs": [
    {
     "name": "stdout",
     "output_type": "stream",
     "text": [
      "85000\n",
      "135000\n",
      "180000\n"
     ]
    }
   ],
   "source": [
    "# shopping cart total: sum up the prices of the items in a shopping cart to get the total cost\n",
    "cart = [85000, 50000, 45000]\n",
    "total = 0\n",
    "for key in cart:\n",
    "    total = total + key\n",
    "    print(total)\n",
    "# there is space before the print ( so it will be adding the values one by one)"
   ]
  },
  {
   "cell_type": "code",
   "execution_count": 17,
   "id": "a0a718ea-6d12-4b91-8ff7-cd6a18657be9",
   "metadata": {},
   "outputs": [
    {
     "name": "stdout",
     "output_type": "stream",
     "text": [
      "180000\n"
     ]
    }
   ],
   "source": [
    "cart = [85000, 50000, 45000]\n",
    "total = 0\n",
    "for key in cart:\n",
    "    total = total + key\n",
    "print(total)\n",
    "# there is no space before the print ( so it will sum up at once)"
   ]
  },
  {
   "cell_type": "code",
   "execution_count": 19,
   "id": "49e7c5b1-5f75-49c7-a7f1-ba6ca8c3b411",
   "metadata": {},
   "outputs": [
    {
     "name": "stdout",
     "output_type": "stream",
     "text": [
      "promotional emailMr adam\n",
      "promotional emailMr adamMrs balogun\n",
      "promotional emailMr adamMrs balogunMiss patricia\n"
     ]
    }
   ],
   "source": [
    "# Email sending: send a promotional email to each customer in a mailing list\n",
    "customer = ['Mr adam', 'Mrs balogun', 'Miss patricia']\n",
    "email = 'promotional email'\n",
    "for key in customer:\n",
    "    email = email + key\n",
    "    print(email)"
   ]
  },
  {
   "cell_type": "code",
   "execution_count": 20,
   "id": "82d0490a-16f0-4303-9853-6123c5bf371f",
   "metadata": {},
   "outputs": [
    {
     "name": "stdout",
     "output_type": "stream",
     "text": [
      "promotional emailMr adam/promotional emailMr adamMrs balogun/promotional emailMr adamMrs balogunMiss patricia/"
     ]
    }
   ],
   "source": [
    "customer = ['Mr adam', 'Mrs balogun', 'Miss patricia']\n",
    "email = 'promotional email'\n",
    "for key in customer:\n",
    "    email = email + key\n",
    "    print(email)"
   ]
  },
  {
   "cell_type": "code",
   "execution_count": 21,
   "id": "114a762a-78b2-41ad-a4d6-26f8fb9b567e",
   "metadata": {},
   "outputs": [
    {
     "name": "stdout",
     "output_type": "stream",
     "text": [
      "Hey jayjay@gmail.com, This is a kind reminder of our upcoming 50% off on all our products\n",
      "Hey meme@gmail.com, This is a kind reminder of our upcoming 50% off on all our products\n",
      "Hey aerospace@gmail.com, This is a kind reminder of our upcoming 50% off on all our products\n"
     ]
    }
   ],
   "source": [
    "mailing_list = ['jayjay@gmail.com','meme@gmail.com','aerospace@gmail.com']\n",
    "for customer in mailing_list:\n",
    "    print(f'Hey {customer}, This is a kind reminder of our upcoming 50% off on all our products')"
   ]
  },
  {
   "cell_type": "code",
   "execution_count": 22,
   "id": "c9ede2db-3ff9-47cd-a318-4d018d945f4f",
   "metadata": {},
   "outputs": [
    {
     "name": "stdin",
     "output_type": "stream",
     "text": [
      "Enter your number for the timetable: 10\n"
     ]
    },
    {
     "name": "stdout",
     "output_type": "stream",
     "text": [
      "10 x 1 = 10\n",
      "10 x 2 = 20\n",
      "10 x 3 = 30\n",
      "10 x 4 = 40\n",
      "10 x 5 = 50\n",
      "10 x 6 = 60\n",
      "10 x 7 = 70\n",
      "10 x 8 = 80\n",
      "10 x 9 = 90\n",
      "10 x 10 = 100\n",
      "10 x 11 = 110\n",
      "10 x 12 = 120\n"
     ]
    }
   ],
   "source": [
    "# RANGE \n",
    "num = int(input('Enter your number for the timetable:'))\n",
    "for x in range(1,13):\n",
    "    print(f'{num} x {x} = {num * x}')\n",
    "# use format (f)"
   ]
  },
  {
   "cell_type": "code",
   "execution_count": 23,
   "id": "ab22f49a-a564-44ae-b47a-b180f7a34d35",
   "metadata": {},
   "outputs": [
    {
     "name": "stdin",
     "output_type": "stream",
     "text": [
      "Enter participant name: uju\n",
      "Enter participant name: pat\n",
      "Enter participant name: joy\n",
      "Enter participant name: jessica\n",
      "Enter participant name: zion\n",
      "Enter participant name: june\n",
      "Enter participant name: moris\n",
      "Enter participant name: favour\n",
      "Enter participant name: lucy\n",
      "Enter participant name: sharon\n"
     ]
    }
   ],
   "source": [
    "# WHILE LOOP\n",
    "Reservation = []\n",
    "checking = 0\n",
    "while len(Reservation) < 10:\n",
    "    name = input('Enter participant name:')\n",
    "    Reservation.append(name)\n",
    "    checking = checking + 1"
   ]
  },
  {
   "cell_type": "code",
   "execution_count": 24,
   "id": "003626ae-e067-41ed-b3fd-017bc04d795a",
   "metadata": {},
   "outputs": [
    {
     "name": "stdout",
     "output_type": "stream",
     "text": [
      "10\n"
     ]
    }
   ],
   "source": [
    "print(checking)"
   ]
  },
  {
   "cell_type": "code",
   "execution_count": 25,
   "id": "50239f80-a839-4942-b962-bf5c018aee95",
   "metadata": {},
   "outputs": [
    {
     "name": "stdin",
     "output_type": "stream",
     "text": [
      "Enter participant name: joy\n",
      "Enter participant name: muna\n",
      "Enter participant name: lucy\n",
      "Enter participant name: seyi\n",
      "Enter participant name: mimi\n",
      "Enter participant name: manny\n",
      "Enter participant name: eva\n",
      "Enter participant name: alpha\n",
      "Enter participant name: sommy\n",
      "Enter participant name: silas\n"
     ]
    }
   ],
   "source": [
    "Reservation = []\n",
    "checking = 0\n",
    "while len(Reservation) < 10:\n",
    "    name = input('Enter participant name:')\n",
    "    Reservation.append(name)\n",
    "    checking = checking + 2"
   ]
  },
  {
   "cell_type": "code",
   "execution_count": 26,
   "id": "178f4dd9-66cb-4734-b52a-8db760f16508",
   "metadata": {},
   "outputs": [
    {
     "name": "stdout",
     "output_type": "stream",
     "text": [
      "20\n"
     ]
    }
   ],
   "source": [
    "print(checking)"
   ]
  },
  {
   "cell_type": "markdown",
   "id": "67f8736f-6277-4992-830b-69396cde2838",
   "metadata": {},
   "source": [
    "# ASSIGNMENT"
   ]
  },
  {
   "cell_type": "code",
   "execution_count": 34,
   "id": "d1fb3312-eb16-4a4f-8834-43d7e07475f5",
   "metadata": {},
   "outputs": [
    {
     "name": "stdin",
     "output_type": "stream",
     "text": [
      "Enter membership level: Gold\n"
     ]
    },
    {
     "name": "stdout",
     "output_type": "stream",
     "text": [
      "15% discount\n"
     ]
    }
   ],
   "source": [
    "## 1. Store Discounts: Apply a discount based on membership level: None (Non-member), 5% (Bronze), 10% (Silver), 15% (Gold), 20% (Platinum\n",
    "Discount = str(input('Enter membership level:'))\n",
    "if Discount == 'Platinum':\n",
    "    print('20% discount')\n",
    "elif Discount == 'Gold':\n",
    "    print('15% discount')\n",
    "elif Discount == 'Silver':\n",
    "    print('10% discount')\n",
    "elif Discount == 'non-member' :\n",
    "    print('0% discount')\n"
   ]
  },
  {
   "cell_type": "code",
   "execution_count": 36,
   "id": "283a0a6b-1c96-4c1f-88fe-79b2cefed512",
   "metadata": {},
   "outputs": [
    {
     "name": "stdin",
     "output_type": "stream",
     "text": [
      "Enter MPG: 78\n"
     ]
    },
    {
     "name": "stdout",
     "output_type": "stream",
     "text": [
      "Fuel efficiency is excellent\n"
     ]
    }
   ],
   "source": [
    "## 2. Car Fuel Efficiency: Categorize a car’s fuel efficiency: Excellent (60+ MPG), Good (50-59 MPG), Fair (40-49 MPG), \n",
    "## Poor (30-39 MPG), Very Poor (below 30 MPG).\n",
    "Fuel_efficiency = float(input('Enter MPG:'))\n",
    "if Fuel_efficiency >=60:\n",
    "    print('Fuel efficiency is excellent')\n",
    "elif Fuel_efficiency >=50 and Fuel_efficiency <=59:\n",
    "    print('Fuel efficiency is good')\n",
    "elif Fuel_efficiency >=40 and Fuel_efficiency <=49:\n",
    "    print('Fuel efficiency is fair')\n",
    "elif Fuel_efficiency >=30 and Fuel_efficiency <=39:\n",
    "    print('Fuel efficiency is poor')\n",
    "elif Fuel_efficiency < 30 :\n",
    "    print('Fuel efficiency is very poor')"
   ]
  },
  {
   "cell_type": "code",
   "execution_count": 133,
   "id": "10daa43d-4d80-4d9e-8f96-44474162c224",
   "metadata": {},
   "outputs": [
    {
     "ename": "IndentationError",
     "evalue": "unexpected indent (3430288782.py, line 5)",
     "output_type": "error",
     "traceback": [
      "\u001b[1;36m  Cell \u001b[1;32mIn[133], line 5\u001b[1;36m\u001b[0m\n\u001b[1;33m    if password >15:\u001b[0m\n\u001b[1;37m    ^\u001b[0m\n\u001b[1;31mIndentationError\u001b[0m\u001b[1;31m:\u001b[0m unexpected indent\n"
     ]
    }
   ],
   "source": [
    "## 3. Password Strength: Evaluate a password’s strength: Very Weak (less than 5 characters), Weak (5-7 characters), Moderate (8-10 characters), \n",
    "## Strong (11-14 characters), Very Strong (15+ characters).\n",
    "def password_strength(password):\n",
    "    length = len(password)\n",
    "     if password >15:\n",
    "         print('Very Strong')\n",
    "     elif password >=11 and password <=14:\n",
    "         print('Strong')\n",
    "     elif password >=8 and password <=10:\n",
    "         print('Moderate')\n",
    "     elif password >=5 and password <=7:\n",
    "         print('Weak')\n",
    "     elif password < 5 :\n",
    "         print('Very weak')\n",
    "print(f\"password_strength{1234}\")"
   ]
  },
  {
   "cell_type": "code",
   "execution_count": 66,
   "id": "1efb3468-bd93-4d37-9c72-8d857cd492ff",
   "metadata": {},
   "outputs": [
    {
     "name": "stdin",
     "output_type": "stream",
     "text": [
      "Enter years of experience: 4.5\n"
     ]
    },
    {
     "name": "stdout",
     "output_type": "stream",
     "text": [
      "Mid-level\n"
     ]
    }
   ],
   "source": [
    "## 4. Job Role Assignment: Assign a job role based on years of experience: Intern (0-1 years), Junior (2-3 years), Mid-level (4-5 years),\n",
    "## Senior (6-9 years), Lead (10+ years).\n",
    "Job_role = float(input('Enter years of experience:'))\n",
    "if Job_role <=1:\n",
    "    print('Intern')\n",
    "elif Job_role >=2 and Job_role <=3:\n",
    "    print('Junior')\n",
    "elif Job_role >=4 and Job_role <=5:\n",
    "    print('Mid-level')\n",
    "elif Job_role >=6 and Job_role <=9:\n",
    "    print('Senior')\n",
    "elif Job_role > 10 :\n",
    "    print('Lead')"
   ]
  },
  {
   "cell_type": "code",
   "execution_count": 67,
   "id": "482113bb-e8df-42b1-9a36-7063aa4abba7",
   "metadata": {},
   "outputs": [
    {
     "name": "stdin",
     "output_type": "stream",
     "text": [
      "Enter income: 250000\n"
     ]
    },
    {
     "name": "stdout",
     "output_type": "stream",
     "text": [
      "Pay 35%\n"
     ]
    }
   ],
   "source": [
    "## 5. Tax Bracket Calculation: Assign a tax bracket based on income: 10% (below $10,000), 15% ($10,000-$25,000), 20% ($25,001-$50,000),\n",
    "## 25% ($50,001-$75,000),30% ($75,001-$100,000), 35% (above $100,000).\n",
    "Tax_bracket = float(input('Enter income:'))\n",
    "if Tax_bracket <=10000:\n",
    "    print('Pay 10%')\n",
    "elif Tax_bracket >=10000 and Tax_bracket <=25000:\n",
    "    print('Pay 15%')\n",
    "elif Tax_bracket >=25001 and Tax_bracket <=50000:\n",
    "    print('Pay 20%')\n",
    "elif Tax_bracket >=50001 and Tax_bracket <=75000:\n",
    "    print('Pay 25%')\n",
    "elif Tax_bracket >=75001 and Tax_bracket <=100000:\n",
    "    print('Pay 30%')\n",
    "elif Tax_bracket > 100000 :\n",
    "    print('Pay 35%')"
   ]
  },
  {
   "cell_type": "code",
   "execution_count": 68,
   "id": "c0b5726a-1fcd-42ef-a9d5-567a158b7ebb",
   "metadata": {},
   "outputs": [
    {
     "name": "stdin",
     "output_type": "stream",
     "text": [
      "Enter Body Mass Index (BMI): 21.4\n"
     ]
    },
    {
     "name": "stdout",
     "output_type": "stream",
     "text": [
      "Healthy\n"
     ]
    }
   ],
   "source": [
    "## 6. Health Risk Assessment: Classify health risk based on BMI and other factors: Very Low, Low, Moderate, High, Very High, Extreme. \n",
    "Health_risk = float(input('Enter Body Mass Index (BMI):'))\n",
    "if Health_risk <=18.5:\n",
    "    print('Underweight')\n",
    "elif Health_risk >=18.5 and Health_risk <=24.9:\n",
    "    print('Healthy')\n",
    "elif Health_risk >=25.0 and Health_risk <=29.9:\n",
    "    print('Overweight')\n",
    "elif Health_risk > 30.0 :\n",
    "    print('Obesity')"
   ]
  },
  {
   "cell_type": "code",
   "execution_count": 80,
   "id": "44c40921-5df1-4d68-aa5e-a5edae7d7cca",
   "metadata": {},
   "outputs": [
    {
     "name": "stdin",
     "output_type": "stream",
     "text": [
      "Enter satisfaction rate: 8.5\n"
     ]
    },
    {
     "name": "stdout",
     "output_type": "stream",
     "text": [
      "Satisfied\n"
     ]
    }
   ],
   "source": [
    "## 7. Customer Satisfaction Survey: Rate customer satisfaction based on feedback score: Very Dissatisfied (1-2),\n",
    "## Dissatisfied (3-4), Neutral (5-6), Satisfied (7-8), Very Satisfied (9), Extremely Satisfied (10).\n",
    "Customer_satisfaction = float(input('Enter satisfaction rate:'))\n",
    "if Customer_satisfaction <= 2:\n",
    "    print('Very Dissatisfied')\n",
    "elif Customer_satisfaction >=3.0 and Customer_satisfaction <=4.9:\n",
    "    print('Dissatisfied')\n",
    "elif Customer_satisfaction >=5.0 and Customer_satisfaction <=6.9:\n",
    "    print('Neutral')\n",
    "elif Customer_satisfaction >=7.0 and Customer_satisfaction <=8.9:\n",
    "    print('Satisfied')\n",
    "elif Customer_satisfaction >=9.0 and Customer_satisfaction <=10:\n",
    "    print('Very Satisfied')\n",
    "elif Customer_satisfaction >= 10 :\n",
    "    print('Extremely Satisfied')"
   ]
  },
  {
   "cell_type": "code",
   "execution_count": 81,
   "id": "e55368a2-ec49-42a5-9ce2-2f33f5f7b520",
   "metadata": {},
   "outputs": [
    {
     "name": "stdin",
     "output_type": "stream",
     "text": [
      "Enter score: 57\n"
     ]
    },
    {
     "name": "stdout",
     "output_type": "stream",
     "text": [
      "Merit\n"
     ]
    }
   ],
   "source": [
    "## 8. Exam Result Classification: Classify exam results: Fail (below 40%), Pass (40%-49%), Merit (50%-59%), Distinction (60%-74%), \n",
    "## High Distinction (75%-89%), Outstanding (90%+).\n",
    "Exam_results = float(input('Enter score:'))\n",
    "if Exam_results <= 40:\n",
    "    print('Fail')\n",
    "elif Exam_results >=40 and Exam_results <=49:\n",
    "    print('Pass')\n",
    "elif Exam_results >=50 and Exam_results <=59:\n",
    "    print('Merit')\n",
    "elif Exam_results >=60 and Exam_results <=74:\n",
    "    print('Distinction')\n",
    "elif Exam_results >=75 and Exam_results <=89:\n",
    "    print('High Distinction')\n",
    "elif Exam_result > 90 :\n",
    "    print('Outstanding')"
   ]
  },
  {
   "cell_type": "code",
   "execution_count": null,
   "id": "33269e58-615f-4c6c-b092-c490739aedff",
   "metadata": {},
   "outputs": [],
   "source": [
    "## 9. Hotel Star Rating: Rate a hotel based on amenities: 1-star, 2-star, 3-star, 4-star, 5-star, 6-star.\n",
    "Hotel_rating = "
   ]
  },
  {
   "cell_type": "code",
   "execution_count": 136,
   "id": "dd69b79a-1556-4b9e-aa79-b63224b58434",
   "metadata": {},
   "outputs": [
    {
     "name": "stdin",
     "output_type": "stream",
     "text": [
      "Enter running time: 18\n"
     ]
    },
    {
     "name": "stdout",
     "output_type": "stream",
     "text": [
      "Advanced\n"
     ]
    }
   ],
   "source": [
    "## 10. Fitness Level Assessment: Determine fitness level based on running time for a 5k: Elite (below 16 min), Advanced (16-20 min),\n",
    "## Intermediate (21-25 min), Novice (26-30 min), Beginner (31-35 min), Very Beginner (36-40 min), Newbie (over 40 min).\n",
    "Fitness_level = float(input('Enter running time:'))\n",
    "if Fitness_level <=16:\n",
    "    print('Elite')\n",
    "elif Fitness_level >=16 and Fitness_level <=20:\n",
    "    print('Advanced')\n",
    "elif Fitness_level >=21 and Fitness_level <=25:\n",
    "    print('Intermediate')\n",
    "elif Fitness_level >=26 and Fitness_level <=30:\n",
    "    print('Novice')\n",
    "elif Fitness_level >=31 and Fitness_level <=35:\n",
    "    print('Beginner')\n",
    "elif Fitness_level >=36 and Fitness_level <=40:\n",
    "    print('Very beginner')\n",
    "elif Fitness_level >=40 :\n",
    "    print('Newbie')"
   ]
  },
  {
   "cell_type": "code",
   "execution_count": 135,
   "id": "45c63052-7d8c-4afb-9863-7aed73fa14bf",
   "metadata": {},
   "outputs": [
    {
     "name": "stdin",
     "output_type": "stream",
     "text": [
      "Enter your password: polygamy\n"
     ]
    },
    {
     "name": "stdout",
     "output_type": "stream",
     "text": [
      "Moderate\n"
     ]
    }
   ],
   "source": [
    "## 3. Password Strength: Evaluate a password’s strength: Very Weak (less than 5 characters), Weak (5-7 characters), Moderate (8-10 characters), \n",
    "## Strong (11-14 characters), Very Strong (15+ characters).\n",
    "password = input('Enter your password:')\n",
    "if len(password) < 5:\n",
    "    print(\"Very weak\")\n",
    "elif len(password) >=5 and len(password) <=7:\n",
    "    print(\"Weak\")\n",
    "elif len(password) >=8 and len(password) <10:\n",
    "    print(\"Moderate\")\n",
    "elif len(password) >=11 and len(password) <=14:\n",
    "    print(\"Strong\")\n",
    "elif len(password) > 15 :\n",
    "    print(\"Very strong\")"
   ]
  },
  {
   "cell_type": "code",
   "execution_count": null,
   "id": "b4f091fa-9ac4-4f40-9d4c-62ef4016b9d0",
   "metadata": {},
   "outputs": [],
   "source": []
  }
 ],
 "metadata": {
  "kernelspec": {
   "display_name": "Python 3 (ipykernel)",
   "language": "python",
   "name": "python3"
  },
  "language_info": {
   "codemirror_mode": {
    "name": "ipython",
    "version": 3
   },
   "file_extension": ".py",
   "mimetype": "text/x-python",
   "name": "python",
   "nbconvert_exporter": "python",
   "pygments_lexer": "ipython3",
   "version": "3.11.7"
  }
 },
 "nbformat": 4,
 "nbformat_minor": 5
}
