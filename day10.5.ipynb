{
 "cells": [
  {
   "cell_type": "code",
   "execution_count": 2,
   "id": "6a97a832-ca79-4324-a8af-a5787aada2b9",
   "metadata": {},
   "outputs": [],
   "source": [
    "# error handling\n",
    "# try, except, else, finally"
   ]
  },
  {
   "cell_type": "code",
   "execution_count": 3,
   "id": "4ccb34a4-d6d4-442f-8399-7cd82744cbb6",
   "metadata": {},
   "outputs": [
    {
     "name": "stdin",
     "output_type": "stream",
     "text": [
      "Enter number one value: 10\n",
      "Enter number two value: 2\n",
      "Choose your operation [+, -, /, *]: *\n"
     ]
    },
    {
     "name": "stdout",
     "output_type": "stream",
     "text": [
      "10 * 2 = 20\n",
      "100\n",
      "This is the end of the program\n"
     ]
    }
   ],
   "source": [
    "try:\n",
    "    num1 = int(input('Enter number one value:'))\n",
    "    num2 = int(input('Enter number two value:'))\n",
    "    operation = input('Choose your operation [+, -, /, *]:')\n",
    "    if operation == '+':\n",
    "        print(f'{num1} + {num2} = {num1 + num2}')\n",
    "    elif operation == '-':\n",
    "        print(f'{num1} - {num2} = {num1 - num2}')\n",
    "    elif operation == '/':\n",
    "        print(f'{num1} / {num2} = {num1 / num2}')\n",
    "    elif operation == '*':\n",
    "        print(f'{num1} * {num2} = {num1 * num2}')\n",
    "except:\n",
    "    print('You have one or more errors')\n",
    "else:\n",
    "    print(num1 ** num2)\n",
    "finally:\n",
    "    print('This is the end of the program')"
   ]
  },
  {
   "cell_type": "code",
   "execution_count": null,
   "id": "7ecc040f-487c-485f-a8f0-9ed4019ad8bc",
   "metadata": {},
   "outputs": [],
   "source": []
  }
 ],
 "metadata": {
  "kernelspec": {
   "display_name": "Python 3 (ipykernel)",
   "language": "python",
   "name": "python3"
  },
  "language_info": {
   "codemirror_mode": {
    "name": "ipython",
    "version": 3
   },
   "file_extension": ".py",
   "mimetype": "text/x-python",
   "name": "python",
   "nbconvert_exporter": "python",
   "pygments_lexer": "ipython3",
   "version": "3.11.7"
  }
 },
 "nbformat": 4,
 "nbformat_minor": 5
}
