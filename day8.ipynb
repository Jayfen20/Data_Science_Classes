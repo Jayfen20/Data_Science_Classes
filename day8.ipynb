{
 "cells": [
  {
   "cell_type": "code",
   "execution_count": null,
   "id": "18d18c8f-b85a-408b-8010-78328dc1c657",
   "metadata": {},
   "outputs": [],
   "source": [
    "## write a program using class and object that will enable us to deposit, tarnsfer, buy airtime, buy data and equally check our balance"
   ]
  },
  {
   "cell_type": "code",
   "execution_count": 5,
   "id": "a16fbb89-4102-40e3-9af7-28f2a7e02ebc",
   "metadata": {},
   "outputs": [],
   "source": [
    "class NexVault:\n",
    "    def __init__(self):\n",
    "        self.balance = 0\n",
    "    def deposit(self):\n",
    "        amount = float(input(\"Enter the amount to deposit: \"))\n",
    "        self.balance = self.balance + amount\n",
    "        print('Transaction Successful!!!!!')\n",
    "    def transfer(self):\n",
    "        amount = float(input(\"Enter the amount to transfer: \"))\n",
    "        if amount > self.balance or amount == 0:\n",
    "            print('Insufficient Funds or Zero amount..')\n",
    "            print('Transaction Failed!!!!')\n",
    "        else:\n",
    "            accountnumber = int(input('Enter customer destination account number:'))\n",
    "            bank = input('Enter Customer Bank:')\n",
    "            self.balance = self.balance - amount\n",
    "            print('Transaction Successful!!!!')\n",
    "    def buy_airtime(self):\n",
    "        amount = float(input(\"Enter amount of airtime to send:\"))\n",
    "        if amount > self.balance or amount == 0:\n",
    "            print('insufficient funds..')\n",
    "        else:\n",
    "            phonenumber = int(input('Enter destination phone number:'))\n",
    "            network = input('Enter network:')\n",
    "            self.balance = self.balance - amount\n",
    "            print('Airtime Recharge Successful!!!')\n",
    "    def buy_data(self):\n",
    "        amount = float(input('Enter subscription plan:'))\n",
    "        if amount > self.balance or amount == 0:\n",
    "            print('Insufficient funds!!!')\n",
    "        else:\n",
    "            phonenumber = input('Enter the destination phone number:')\n",
    "            network = input('Enter customer network provider:')\n",
    "            self.balance = self.balance - amount\n",
    "            print('Transaction Successful!!!')\n",
    "    def check_balance(self):\n",
    "        print('Your current balance is: ', self.balance)"
   ]
  },
  {
   "cell_type": "code",
   "execution_count": 6,
   "id": "300e00a6-93ed-40e7-981d-0c1e4976654c",
   "metadata": {},
   "outputs": [],
   "source": [
    "program = NexVault()  ## create the object before it will start working"
   ]
  },
  {
   "cell_type": "code",
   "execution_count": 8,
   "id": "792fc85a-8166-4c00-b578-55dfd4ee947a",
   "metadata": {},
   "outputs": [
    {
     "name": "stdin",
     "output_type": "stream",
     "text": [
      "Enter the amount to deposit:  100000\n"
     ]
    },
    {
     "name": "stdout",
     "output_type": "stream",
     "text": [
      "Transaction Successful!!!!!\n"
     ]
    }
   ],
   "source": [
    "program.deposit()"
   ]
  },
  {
   "cell_type": "code",
   "execution_count": 9,
   "id": "3fe8088e-6525-4d21-8fad-12e546ff4bc1",
   "metadata": {},
   "outputs": [
    {
     "name": "stdin",
     "output_type": "stream",
     "text": [
      "Enter amount of airtime to send: 5000\n",
      "Enter destination phone number: 09074231507\n",
      "Enter network: Airtel\n"
     ]
    },
    {
     "name": "stdout",
     "output_type": "stream",
     "text": [
      "Airtime Recharge Successful!!!\n"
     ]
    }
   ],
   "source": [
    "program.buy_airtime()"
   ]
  },
  {
   "cell_type": "code",
   "execution_count": 10,
   "id": "5f809cee-0770-4147-bbd2-b8d66350f187",
   "metadata": {},
   "outputs": [
    {
     "name": "stdout",
     "output_type": "stream",
     "text": [
      "Your current balance is:  95000.0\n"
     ]
    }
   ],
   "source": [
    "program.check_balance()"
   ]
  },
  {
   "cell_type": "code",
   "execution_count": 11,
   "id": "a054da45-cbb7-43b3-9926-ebeac3d7a03a",
   "metadata": {},
   "outputs": [
    {
     "name": "stdin",
     "output_type": "stream",
     "text": [
      "Enter the amount to transfer:  22000\n",
      "Enter customer destination account number: 6314415551\n",
      "Enter Customer Bank: fidelity bank\n"
     ]
    },
    {
     "name": "stdout",
     "output_type": "stream",
     "text": [
      "Transaction Successful!!!!\n"
     ]
    }
   ],
   "source": [
    "program.transfer()"
   ]
  },
  {
   "cell_type": "code",
   "execution_count": 12,
   "id": "2764fdc8-99d6-441f-8ce4-c040ccc8f786",
   "metadata": {},
   "outputs": [
    {
     "name": "stdout",
     "output_type": "stream",
     "text": [
      "Your current balance is:  73000.0\n"
     ]
    }
   ],
   "source": [
    "program.check_balance()"
   ]
  },
  {
   "cell_type": "code",
   "execution_count": 16,
   "id": "6e16f75b-4590-4ade-8a29-c40819382e3f",
   "metadata": {},
   "outputs": [],
   "source": [
    "## create a class called simulation, with the following attributes (brand, model,color,year,speed) with the following methods (start, change gear, stop)\n",
    "class Simulation:\n",
    "    def __init__(self):\n",
    "        self.brand = input('Enter Car Brand:')\n",
    "        self.model = input('Enter Car Model:')\n",
    "        self.color = input('Enter Car Color:')\n",
    "        self.year = input('Enter Car Year:')\n",
    "        self.speed = float(input('Enter Car Speed:'))\n",
    "    def start(self):\n",
    "        print(f'{self.brand} {self.model} engine starts and moving!!!!')\n",
    "    def change_gear(self):\n",
    "        gear_option = input('Choose gear option [1,2,3,4,5,R]').lower()\n",
    "        if gear_option == '1':\n",
    "            print('Gear Changed to one')\n",
    "        elif gear_option == '2':\n",
    "            print('Gear changed to two')\n",
    "        elif gear_option == '3':\n",
    "            print('Gear changed to three')\n",
    "        elif gear_option == '4':\n",
    "            print('Gear changed to four')\n",
    "        elif gear_option == '5':\n",
    "            print('Gear changed to five')\n",
    "        elif gear_option == 'R':\n",
    "            print('Gear changed to Reverse')\n",
    "    def stop(self):\n",
    "        print(f'{self.brand} {self.model} engine stops!!!!')"
   ]
  },
  {
   "cell_type": "code",
   "execution_count": 19,
   "id": "6c3bee8a-51f1-436d-9c0e-17088f38968f",
   "metadata": {},
   "outputs": [
    {
     "name": "stdin",
     "output_type": "stream",
     "text": [
      "Enter Car Brand: Mercedes\n",
      "Enter Car Model: GLK\n",
      "Enter Car Color: Black\n",
      "Enter Car Year: 2022\n",
      "Enter Car Speed: 200\n"
     ]
    }
   ],
   "source": [
    "program = Simulation()"
   ]
  },
  {
   "cell_type": "code",
   "execution_count": 23,
   "id": "4b35d61c-4653-45a2-8607-ab4ef984bc9d",
   "metadata": {},
   "outputs": [
    {
     "name": "stdout",
     "output_type": "stream",
     "text": [
      "Mercedes GLK engine starts and moving!!!!\n"
     ]
    }
   ],
   "source": [
    "program.start()"
   ]
  },
  {
   "cell_type": "code",
   "execution_count": 21,
   "id": "a80b1d7b-3e70-40d6-b8f9-3fca70e4c996",
   "metadata": {},
   "outputs": [
    {
     "name": "stdin",
     "output_type": "stream",
     "text": [
      "Choose gear option [1,2,3,4,5,R] 3\n"
     ]
    },
    {
     "name": "stdout",
     "output_type": "stream",
     "text": [
      "Gear changed to three\n"
     ]
    }
   ],
   "source": [
    "program.change_gear()"
   ]
  },
  {
   "cell_type": "code",
   "execution_count": 22,
   "id": "361592c1-76a8-42ce-8b25-30913b33de59",
   "metadata": {},
   "outputs": [
    {
     "name": "stdout",
     "output_type": "stream",
     "text": [
      "Mercedes GLK engine stops!!!!\n"
     ]
    }
   ],
   "source": [
    "program.stop()"
   ]
  },
  {
   "cell_type": "code",
   "execution_count": null,
   "id": "86448841-8fae-417b-acf0-1d8e6ad3d9e9",
   "metadata": {},
   "outputs": [],
   "source": []
  }
 ],
 "metadata": {
  "kernelspec": {
   "display_name": "Python 3 (ipykernel)",
   "language": "python",
   "name": "python3"
  },
  "language_info": {
   "codemirror_mode": {
    "name": "ipython",
    "version": 3
   },
   "file_extension": ".py",
   "mimetype": "text/x-python",
   "name": "python",
   "nbconvert_exporter": "python",
   "pygments_lexer": "ipython3",
   "version": "3.11.7"
  }
 },
 "nbformat": 4,
 "nbformat_minor": 5
}
