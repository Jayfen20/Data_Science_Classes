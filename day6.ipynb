{
 "cells": [
  {
   "cell_type": "code",
   "execution_count": 8,
   "id": "aebd7ced-c5a4-4a2c-b72f-92902dc60744",
   "metadata": {},
   "outputs": [
    {
     "ename": "SyntaxError",
     "evalue": "invalid syntax (2268775951.py, line 13)",
     "output_type": "error",
     "traceback": [
      "\u001b[1;36m  Cell \u001b[1;32mIn[8], line 13\u001b[1;36m\u001b[0m\n\u001b[1;33m    elif choice == '2':\u001b[0m\n\u001b[1;37m    ^\u001b[0m\n\u001b[1;31mSyntaxError\u001b[0m\u001b[1;31m:\u001b[0m invalid syntax\n"
     ]
    }
   ],
   "source": [
    "print(\"Select your shipping location:\")\n",
    "print(\"1. Lagos\")\n",
    "print(\"2. Abuja\")\n",
    "print(\"3. Port Harcourt\")\n",
    "print(\"4. Kano\")\n",
    "print(\"5. Ibadan\")\n",
    "print(\"6. Benin City\")\n",
    "choice = input(\"Enter the number corresponding to your location:\")\n",
    "if choice == '1':\n",
    "    location = \"Lagos\"\n",
    "cost = 2000\n",
    "print(f\"Shipping to {location} will cost {cost}\")\n",
    "elif choice == '2':\n",
    "location = \"Abuja\"\n",
    "cost == 2500\n",
    "print(f\"Shipping to {location} will cost {cost}\")\n",
    "elif choice == 3:\n",
    "location = 'Port Harcourt'\n",
    "cost = 2200\n",
    "print(f\"Shipping to {location} will cost #{cost}\")\n",
    "elif choice == 4:\n",
    "location = \"Kano\"\n",
    "cost = 2700\n",
    "print(f\"Shipping to {location} will cost #{cost}.\")\n",
    "elif choice == 5:\n",
    "location = \"Ibadan\"\n",
    "cost = 1800\n",
    "print(f\"Shipping to {location} will cost #{cost}.\")\n",
    "elif choice == 6:\n",
    "location = \"Benin City\"\n",
    "print(f\"Shipping to {location} will cost #{cost}\")\n",
    "else:\n",
    "    print(\"Invalid choice. Please restart the program and select a valid location.\")\n",
    "print(\"Thank you for choosing our shipping service!\")"
   ]
  },
  {
   "cell_type": "markdown",
   "id": "c6d4b39b-3a43-4e8b-8e56-7fed44d1e51a",
   "metadata": {},
   "source": [
    "# FUNCTION"
   ]
  },
  {
   "cell_type": "code",
   "execution_count": 9,
   "id": "0ff13c79-de7f-4888-89c1-79b7857961e0",
   "metadata": {},
   "outputs": [],
   "source": [
    "### A function is a reuseable block of code that performs a specific task. it takes input, processes it, and returns an output, helping to organise and modularize code.\n",
    "### Principle\n",
    "### In simple terms, functions help break down complicated tasks into smaller, easy-to-understand steps. Instead of repeating the same code over and over, you can use a function to do the job whenever you need it. this makes the code easier to rea, fix and update\n",
    "### Importance\n",
    "### Functions are really important for writing good code. They help you build programs in small; manageable pieces, which makes big projects easier to work on, fix and add a new feature to. Fumctions also let you reuse code instead of writing the same thing multiple times, saving time and effort."
   ]
  },
  {
   "cell_type": "code",
   "execution_count": 11,
   "id": "bf1c20b2-416b-401a-96c8-57b21fcdf46a",
   "metadata": {},
   "outputs": [
    {
     "name": "stdout",
     "output_type": "stream",
     "text": [
      "welcome to python class\n"
     ]
    }
   ],
   "source": [
    "# Function without parameter\n",
    "def greet():\n",
    "    print('welcome to python class')\n",
    "greet()"
   ]
  },
  {
   "cell_type": "code",
   "execution_count": 12,
   "id": "5cff4e92-34d9-4966-83fe-e95a69f4cec8",
   "metadata": {},
   "outputs": [
    {
     "name": "stdout",
     "output_type": "stream",
     "text": [
      "welcome to python class\n"
     ]
    }
   ],
   "source": [
    "greet()"
   ]
  },
  {
   "cell_type": "code",
   "execution_count": 13,
   "id": "986b98ad-284d-4600-9895-f3d99395617e",
   "metadata": {},
   "outputs": [
    {
     "name": "stdout",
     "output_type": "stream",
     "text": [
      "Hello, Jessica, Welcome to python class\n"
     ]
    }
   ],
   "source": [
    "# Function with parameter\n",
    "def greet2(name):\n",
    "    print(f\"Hello, {name}, Welcome to python class\")\n",
    "greet2('Jessica')"
   ]
  },
  {
   "cell_type": "code",
   "execution_count": 15,
   "id": "3a686ae0-e28a-4967-afd6-8b12bf27ac20",
   "metadata": {},
   "outputs": [
    {
     "name": "stdout",
     "output_type": "stream",
     "text": [
      "Hello, Eva, Welcome to python class\n"
     ]
    }
   ],
   "source": [
    "greet2('Eva')"
   ]
  },
  {
   "cell_type": "code",
   "execution_count": 16,
   "id": "76f7134f-834e-4d8b-9898-f81beb178eea",
   "metadata": {},
   "outputs": [],
   "source": [
    "# Class Practice\n",
    "# write a python program for a restaurant that offers six different meal options. the program should:\n",
    "## Display the menu with six meal choices.\n",
    "## Ask the customer to select a meal by entering the corresponding number.\n",
    "## Use a function to confirm the order and calculate the price based on the selected meal and quantity.\n",
    "## The program should use conditions to handle differerent meal choices and display the total cost."
   ]
  },
  {
   "cell_type": "code",
   "execution_count": 17,
   "id": "c62dcdff-e0d7-43b8-b4af-9297f0e933fd",
   "metadata": {},
   "outputs": [
    {
     "name": "stdout",
     "output_type": "stream",
     "text": [
      "WELCOME TO MK KITCHEN HOME OF DELICIOUS MEALS.........\n",
      "HERE IS OUR MENU\n",
      "1. CHICKEN RICE, 5000\n",
      "2. FISH RICE, 7500\n",
      "3. BEANS RICE, 4000\n",
      "4. CHICKEN PIZZA, 15000\n",
      "5. FISH PIZZA, 18000\n",
      "6. BEANS PIZZA, 7000\n"
     ]
    },
    {
     "name": "stdin",
     "output_type": "stream",
     "text": [
      "Please Provide Your Order using the number attached to any of the meal on the menu. 5\n",
      "Enter your order quantity: 3\n"
     ]
    },
    {
     "name": "stdout",
     "output_type": "stream",
     "text": [
      "Your Order is FISH PIZZA, quantity: 3.0, total: 54000.0\n"
     ]
    }
   ],
   "source": [
    "def MK_KITCHEN():\n",
    "    print(\"WELCOME TO MK KITCHEN HOME OF DELICIOUS MEALS.........\")\n",
    "    print(\"HERE IS OUR MENU\")\n",
    "    print(\"1. CHICKEN RICE, 5000\")\n",
    "    print(\"2. FISH RICE, 7500\")\n",
    "    print(\"3. BEANS RICE, 4000\")\n",
    "    print(\"4. CHICKEN PIZZA, 15000\")\n",
    "    print(\"5. FISH PIZZA, 18000\")\n",
    "    print(\"6. BEANS PIZZA, 7000\")\n",
    "    choice = input('Please Provide Your Order using the number attached to any of the meal on the menu.')\n",
    "    quantity = float(input('Enter your order quantity:'))\n",
    "    if choice == '1':\n",
    "        print(f'Your Order is CHICKEN RICE, quantity: {quantity}, total: {quantity * 5000}')\n",
    "    elif choice == '2':\n",
    "        print(f'Your Order is FISH RICE, quantity: {quantity}, total: {quantity * 7500}')\n",
    "    elif choice == '3':\n",
    "        print(f'Your Order is BEANS RICE, quantity: {quantity}, total: {quantity * 4000}')\n",
    "    elif choice == '4':\n",
    "        print(f'Your Order is CHICKEN PIZZA, quantity: {quantity}, total: {quantity * 15000}')\n",
    "    elif choice == '5':\n",
    "        print(f'Your Order is FISH PIZZA, quantity: {quantity}, total: {quantity * 18000}')\n",
    "    elif choice == '6':\n",
    "        print(f'Your Order is BEANS PIZZA, quantity: {quantity}, total: {quantity * 7000}')\n",
    "MK_KITCHEN()"
   ]
  },
  {
   "cell_type": "code",
   "execution_count": 19,
   "id": "02b2cae9-b7e0-426b-917f-07667cb4685f",
   "metadata": {},
   "outputs": [
    {
     "name": "stdin",
     "output_type": "stream",
     "text": [
      "Please Provide Your Order using the number attached to any of the meal on the menu. 3\n",
      "Enter your order quantity: 5\n"
     ]
    },
    {
     "name": "stdout",
     "output_type": "stream",
     "text": [
      "WELCOME TO MK KITCHEN HOME OF DELICIOUS MEALS.........\n",
      "HERE IS OUR MENU\n",
      "1. CHICKEN RICE, 5000\n",
      "2. FISH RICE, 7500\n",
      "3. BEANS RICE, 4000\n",
      "4. CHICKEN PIZZA, 15000\n",
      "5. FISH PIZZA, 18000\n",
      "6. BEANS PIZZA, 7000\n",
      "Your Order is BEANS RICE, quantity: 5.0, total: 20000.0\n"
     ]
    }
   ],
   "source": [
    "def MK_KITCHEN(choice, quantity ):\n",
    "    print(\"WELCOME TO MK KITCHEN HOME OF DELICIOUS MEALS.........\")\n",
    "    print(\"HERE IS OUR MENU\")\n",
    "    print(\"1. CHICKEN RICE, 5000\")\n",
    "    print(\"2. FISH RICE, 7500\")\n",
    "    print(\"3. BEANS RICE, 4000\")\n",
    "    print(\"4. CHICKEN PIZZA, 15000\")\n",
    "    print(\"5. FISH PIZZA, 18000\")\n",
    "    print(\"6. BEANS PIZZA, 7000\")\n",
    "    \n",
    "    if choice == '1':\n",
    "        print(f'Your Order is CHICKEN RICE, quantity: {quantity}, total: {quantity * 5000}')\n",
    "    elif choice == '2':\n",
    "        print(f'Your Order is FISH RICE, quantity: {quantity}, total: {quantity * 7500}')\n",
    "    elif choice == '3':\n",
    "        print(f'Your Order is BEANS RICE, quantity: {quantity}, total: {quantity * 4000}')\n",
    "    elif choice == '4':\n",
    "        print(f'Your Order is CHICKEN PIZZA, quantity: {quantity}, total: {quantity * 15000}')\n",
    "    elif choice == '5':\n",
    "        print(f'Your Order is FISH PIZZA, quantity: {quantity}, total: {quantity * 18000}')\n",
    "    elif choice == '6':\n",
    "        print(f'Your Order is BEANS PIZZA, quantity: {quantity}, total: {quantity * 7000}')\n",
    "MK_KITCHEN(input('Please Provide Your Order using the number attached to any of the meal on the menu.'), float(input('Enter your order quantity:')))"
   ]
  },
  {
   "cell_type": "markdown",
   "id": "642949ad-884a-4321-b4ed-da29cd9412ae",
   "metadata": {},
   "source": [
    "# ASSIGNMENT "
   ]
  },
  {
   "cell_type": "code",
   "execution_count": 29,
   "id": "8640f187-77f0-48cd-bd4f-20a60909d580",
   "metadata": {},
   "outputs": [],
   "source": [
    "import random\n",
    "numbers = []\n",
    "counter = 1\n",
    "while counter < 50:\n",
    "    num = random.randint(15,85)\n",
    "    numbers.append(num)\n",
    "    counter = counter + 1\n",
    "odd_numbers = []\n",
    "even_numbers = []\n",
    "for num in numbers:\n",
    "    if num / 2 == 0:\n",
    "        even_numbers.append(num)\n",
    "    else:\n",
    "        odd_numbers.append(num)\n",
    "## from the above generated numbers using for loop seperate odd numbers , and even numbers"
   ]
  },
  {
   "cell_type": "code",
   "execution_count": 31,
   "id": "cf41cf11-31ae-4ee9-8a2e-7b0d8a2a0276",
   "metadata": {},
   "outputs": [],
   "source": [
    "import random\n",
    "\n",
    "numbers = [ ]\n",
    "\n",
    "counter = 1\n",
    "\n",
    "\n",
    "while counter ≤ 50:\n",
    "\n",
    "           num = random.randint(15,85)\n",
    "           numbers.append(num)\n",
    "\n",
    "           counter = counter + 1\n",
    "\n",
    "##from the above generated numbers using for loop seperate odd numbers , and even numbers"
   ]
  },
  {
   "cell_type": "code",
   "execution_count": null,
   "id": "5efb5657-313e-4134-b95a-cd595b90ec3c",
   "metadata": {},
   "outputs": [],
   "source": [
    "numbers = [ ]\n",
    "counter = 1\n",
    "while counter < 50:\n",
    "    for num in numbers:\n",
    "        num = random.randint(15,85)\n",
    "        numbers.append(num)\n",
    "        even_numbers = (f'{num / 2}')"
   ]
  },
  {
   "cell_type": "code",
   "execution_count": null,
   "id": "0b993098-104a-488c-ad63-fe2b6c9cb2d9",
   "metadata": {},
   "outputs": [],
   "source": [
    "import random\n",
    "numbers = [ ]\n",
    "counter = 1\n",
    "while counter <= 50:\n",
    "    num = random.randint(15,85)\n",
    "    numbers.append(num)\n",
    "    counter = +1\n",
    "odd_numbers = [ ]\n",
    "even_numbers = [ ]\n",
    "for num in numbers:\n",
    "    if even_number = num / 2 == 0:\n",
    "        even_numbers.append(num)\n",
    "    else:\n",
    "        odd_numbers.append(num)\n",
    "print(\"original numbers: \", numbers)\n",
    "print(\"even numbers: \", even_numbers)\n",
    "print(\"odd numbers: \", odd_numbers)"
   ]
  },
  {
   "cell_type": "code",
   "execution_count": null,
   "id": "bf8064cc-8e19-418b-9ba0-4c0dc6c77b03",
   "metadata": {},
   "outputs": [],
   "source": [
    "import random\n",
    "\n",
    "numbers = [ ]\n",
    "\n",
    "counter = 1\n",
    "\n",
    "while counter ≤ 50:\n",
    "\n",
    "           num = random.randint(15,85)\n",
    "\n",
    "           numbers.append(num)\n",
    "\n",
    "           counter = counter + 1\n",
    "\n",
    "from the above generated numbers using for loop seperate odd numbers , and even numbers"
   ]
  },
  {
   "cell_type": "code",
   "execution_count": 4,
   "id": "f24dab22-8e44-479e-b33c-1f89a9094758",
   "metadata": {},
   "outputs": [
    {
     "name": "stdin",
     "output_type": "stream",
     "text": [
      "Enter the number of elements: 85\n"
     ]
    },
    {
     "name": "stdout",
     "output_type": "stream",
     "text": [
      "the even numbers are :[2, 4, 6, 8, 10, 12, 14, 16, 18, 20, 22, 24, 26, 28, 30, 32, 34, 36, 38, 40, 42, 44, 46, 48, 50, 52, 54, 56, 58, 60, 62, 64, 66, 68, 70, 72, 74, 76, 78, 80, 82, 84]\n",
      "the odd numbers are:[1, 3, 5, 7, 9, 11, 13, 15, 17, 19, 21, 23, 25, 27, 29, 31, 33, 35, 37, 39, 41, 43, 45, 47, 49, 51, 53, 55, 57, 59, 61, 63, 65, 67, 69, 71, 73, 75, 77, 79, 81, 83, 85]\n"
     ]
    }
   ],
   "source": [
    "number = int(input(\"Enter the number of elements:\"))\n",
    "\n",
    "numbers = []\n",
    "even = []\n",
    "odd = []\n",
    "\n",
    "\n",
    "for num in range(1,number+1):\n",
    "    \n",
    "    numbers.append(num)\n",
    "    \n",
    "for num in range(0,len(numbers)):\n",
    "    \n",
    "    if num%2 :\n",
    "        \n",
    "        even.append(numbers[num])\n",
    "        \n",
    "    else:\n",
    "        \n",
    "        odd.append(numbers[num])\n",
    "        \n",
    "print(\"the even numbers are :\" + str(even))\n",
    "print(\"the odd numbers are:\" + str(odd))"
   ]
  },
  {
   "cell_type": "code",
   "execution_count": 9,
   "id": "cecd0e82-e64b-4d0e-b43a-87582b99a3b0",
   "metadata": {},
   "outputs": [
    {
     "name": "stdout",
     "output_type": "stream",
     "text": [
      "the even numbers are :[2, 4, 6, 8, 10, 12, 14, 16, 18, 20, 22, 24, 26, 28, 30, 32, 34, 36, 38, 40, 42, 44, 46, 48, 50, 52, 54, 56, 58, 60, 62, 64, 66, 68, 70, 72, 74, 76, 78, 80, 82, 84, [25]]\n",
      "the odd numbers are:[1, 3, 5, 7, 9, 11, 13, 15, 17, 19, 21, 23, 25, 27, 29, 31, 33, 35, 37, 39, 41, 43, 45, 47, 49, 51, 53, 55, 57, 59, 61, 63, 65, 67, 69, 71, 73, 75, 77, 79, 81, 83, 85]\n"
     ]
    }
   ],
   "source": [
    "import random\n",
    "num = random.randint(15,85)\n",
    "\n",
    "numbers.append(num)\n",
    "\n",
    "number = num + 1\n",
    "\n",
    "if num%2 :\n",
    "    even.append([num])\n",
    "else:\n",
    "    odd.append([num])\n",
    "print(\"the even numbers are :\" + str(even))\n",
    "print(\"the odd numbers are:\" + str(odd))"
   ]
  },
  {
   "cell_type": "code",
   "execution_count": 7,
   "id": "dd10414a-ef1c-4022-8b76-bed6b6570b23",
   "metadata": {},
   "outputs": [
    {
     "name": "stdout",
     "output_type": "stream",
     "text": [
      "45\n"
     ]
    }
   ],
   "source": [
    "import random\n",
    "num = random.randint(18,85)\n",
    "print(num)"
   ]
  },
  {
   "cell_type": "code",
   "execution_count": 13,
   "id": "c05cceb8-b29f-492f-97d4-8db6f935c511",
   "metadata": {},
   "outputs": [
    {
     "name": "stdout",
     "output_type": "stream",
     "text": [
      "the even numbers are :[2, 4, 6, 8, 10, 12, 14, 16, 18, 20, 22, 24, 26, 28, 30, 32, 34, 36, 38, 40, 42, 44, 46, 48, 50, 52, 54, 56, 58, 60, 62, 64, 66, 68, 70, 72, 74, 76, 78, 80, 82, 84, [25], [71]]\n",
      "the odd numbers are:[1, 3, 5, 7, 9, 11, 13, 15, 17, 19, 21, 23, 25, 27, 29, 31, 33, 35, 37, 39, 41, 43, 45, 47, 49, 51, 53, 55, 57, 59, 61, 63, 65, 67, 69, 71, 73, 75, 77, 79, 81, 83, 85]\n"
     ]
    }
   ],
   "source": [
    "import random\n",
    "num = random.randint(15,85)\n",
    "\n",
    "numbers.append(num)\n",
    "\n",
    "number = num + 1\n",
    "\n",
    "if num%2 :\n",
    "    even.append([num])\n",
    "else:\n",
    "    odd.append([num])\n",
    "print(\"the even numbers are :\" + str(even))\n",
    "print(\"the odd numbers are:\" + str(odd))"
   ]
  },
  {
   "cell_type": "code",
   "execution_count": 23,
   "id": "99c93218-7c35-44ae-8f4a-a12e198c9b30",
   "metadata": {},
   "outputs": [
    {
     "name": "stdout",
     "output_type": "stream",
     "text": [
      "The even numbers are:[16, 18, 20, 22, 24, 26, 28, 30, 32, 34, 36, 38, 40, 42, 44, 46, 48, 50, 52, 54, 56, 58, 60, 62, 64, 66, 68, 70, 72, 74, 76, 78, 80, 82, 84]\n",
      "The odd numbers are:[15, 17, 19, 21, 23, 25, 27, 29, 31, 33, 35, 37, 39, 41, 43, 45, 47, 49, 51, 53, 55, 57, 59, 61, 63, 65, 67, 69, 71, 73, 75, 77, 79, 81, 83]\n"
     ]
    }
   ],
   "source": [
    "Numbers = range(15,85)\n",
    "even_numbers = []\n",
    "odd_numbers = []\n",
    "\n",
    "for num in Numbers:\n",
    "    if num % 2 == 0:\n",
    "        even_numbers.append(num)\n",
    "    else:\n",
    "        odd_numbers.append(num)\n",
    "print(\"The even numbers are:\" + str(even_numbers))\n",
    "print(\"The odd numbers are:\" + str(odd_numbers))"
   ]
  },
  {
   "cell_type": "code",
   "execution_count": null,
   "id": "86486bee-e53a-47d2-a552-997c984400bf",
   "metadata": {},
   "outputs": [],
   "source": []
  }
 ],
 "metadata": {
  "kernelspec": {
   "display_name": "Python 3 (ipykernel)",
   "language": "python",
   "name": "python3"
  },
  "language_info": {
   "codemirror_mode": {
    "name": "ipython",
    "version": 3
   },
   "file_extension": ".py",
   "mimetype": "text/x-python",
   "name": "python",
   "nbconvert_exporter": "python",
   "pygments_lexer": "ipython3",
   "version": "3.11.7"
  }
 },
 "nbformat": 4,
 "nbformat_minor": 5
}
