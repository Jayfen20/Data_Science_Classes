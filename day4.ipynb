{
 "cells": [
  {
   "cell_type": "markdown",
   "id": "01dbd768-542b-4c5e-9082-fe8cae317efa",
   "metadata": {},
   "source": [
    "# DICTIONARY"
   ]
  },
  {
   "cell_type": "code",
   "execution_count": 1,
   "id": "0ea09765-a7e9-4589-9b47-cb2ac64c507f",
   "metadata": {},
   "outputs": [
    {
     "name": "stdout",
     "output_type": "stream",
     "text": [
      "15\n"
     ]
    }
   ],
   "source": [
    "records = {'Name':'John', 'Age':15}\n",
    "print(records['Age'])"
   ]
  },
  {
   "cell_type": "code",
   "execution_count": 2,
   "id": "7b85db4d-5fd1-4144-8dab-5939b5ece5b4",
   "metadata": {},
   "outputs": [
    {
     "name": "stdout",
     "output_type": "stream",
     "text": [
      "dict_keys(['Name', 'Age'])\n"
     ]
    }
   ],
   "source": [
    "print(records.keys()) # keys will return all keys available in the dictionary"
   ]
  },
  {
   "cell_type": "code",
   "execution_count": 3,
   "id": "0e6bfcd8-b220-4f8d-8223-b072b863208a",
   "metadata": {},
   "outputs": [
    {
     "name": "stdout",
     "output_type": "stream",
     "text": [
      "dict_values(['John', 15])\n"
     ]
    }
   ],
   "source": [
    "print(records.values()) # values will return all values present in the dictionary"
   ]
  },
  {
   "cell_type": "code",
   "execution_count": 4,
   "id": "dcd5d4f6-a664-43e6-8fcc-9562f3ac01ba",
   "metadata": {},
   "outputs": [
    {
     "name": "stdout",
     "output_type": "stream",
     "text": [
      "dict_items([('Name', 'John'), ('Age', 15)])\n"
     ]
    }
   ],
   "source": [
    "print(records.items()) # items will return all key and values in the dictionary in pair"
   ]
  },
  {
   "cell_type": "code",
   "execution_count": 9,
   "id": "3030b0d0-a3bf-4996-b318-e9c27f755624",
   "metadata": {},
   "outputs": [
    {
     "name": "stdout",
     "output_type": "stream",
     "text": [
      "{'Name': 'John', 'Age': 15, 'Gender': 'Male'}\n"
     ]
    }
   ],
   "source": [
    "records['Gender'] = 'Male'  # adding a new pair of key and value to the dictionary\n",
    "print(records)"
   ]
  },
  {
   "cell_type": "code",
   "execution_count": 10,
   "id": "6fae4ca5-208b-45ed-9879-4010c986253a",
   "metadata": {},
   "outputs": [
    {
     "name": "stdout",
     "output_type": "stream",
     "text": [
      "{'Name': 'John', 'Age': 25, 'Gender': 'Male'}\n"
     ]
    }
   ],
   "source": [
    "records.update({'Age':25}) # update will change the value of the key specified to the new value\n",
    "print(records)"
   ]
  },
  {
   "cell_type": "code",
   "execution_count": 11,
   "id": "cf1fdd77-7c2d-4117-a800-20ff90704dc9",
   "metadata": {},
   "outputs": [
    {
     "name": "stdout",
     "output_type": "stream",
     "text": [
      "{'Name': 'John', 'Age': 25}\n"
     ]
    }
   ],
   "source": [
    "records.popitem() # popitem will drop the last pair of key and value\n",
    "print(records)"
   ]
  },
  {
   "cell_type": "code",
   "execution_count": 12,
   "id": "34a1e198-8dd2-49b1-b6a3-f2c7e15d3a78",
   "metadata": {},
   "outputs": [
    {
     "name": "stdout",
     "output_type": "stream",
     "text": [
      "{'Age': 25}\n"
     ]
    }
   ],
   "source": [
    "records.pop('Name') # pop will drop the key and value for the specified key\n",
    "print(records)"
   ]
  },
  {
   "cell_type": "markdown",
   "id": "de35ea83-c1cb-402a-9b8c-d9260a459a2a",
   "metadata": {},
   "source": [
    "# MODULES"
   ]
  },
  {
   "cell_type": "code",
   "execution_count": 13,
   "id": "3bf77312-e93d-4e79-b487-9446f584d7f7",
   "metadata": {},
   "outputs": [
    {
     "name": "stdout",
     "output_type": "stream",
     "text": [
      "['__doc__', '__loader__', '__name__', '__package__', '__spec__', 'acos', 'acosh', 'asin', 'asinh', 'atan', 'atan2', 'atanh', 'cbrt', 'ceil', 'comb', 'copysign', 'cos', 'cosh', 'degrees', 'dist', 'e', 'erf', 'erfc', 'exp', 'exp2', 'expm1', 'fabs', 'factorial', 'floor', 'fmod', 'frexp', 'fsum', 'gamma', 'gcd', 'hypot', 'inf', 'isclose', 'isfinite', 'isinf', 'isnan', 'isqrt', 'lcm', 'ldexp', 'lgamma', 'log', 'log10', 'log1p', 'log2', 'modf', 'nan', 'nextafter', 'perm', 'pi', 'pow', 'prod', 'radians', 'remainder', 'sin', 'sinh', 'sqrt', 'tan', 'tanh', 'tau', 'trunc', 'ulp']\n"
     ]
    }
   ],
   "source": [
    "import math\n",
    "print(dir(math))"
   ]
  },
  {
   "cell_type": "code",
   "execution_count": 14,
   "id": "fddf019b-31a3-4765-bd17-8f0e6acede22",
   "metadata": {},
   "outputs": [
    {
     "name": "stdout",
     "output_type": "stream",
     "text": [
      "-0.940069154930553\n"
     ]
    }
   ],
   "source": [
    "angle = 15.36\n",
    "print(math.cos(angle))"
   ]
  },
  {
   "cell_type": "code",
   "execution_count": 15,
   "id": "3e1bed01-8dee-4a55-8e4c-5fb8fc42e497",
   "metadata": {},
   "outputs": [
    {
     "name": "stdout",
     "output_type": "stream",
     "text": [
      "['Counter', 'Decimal', 'Fraction', 'LinearRegression', 'NormalDist', 'StatisticsError', '_SQRT2', '__all__', '__annotations__', '__builtins__', '__cached__', '__doc__', '__file__', '__loader__', '__name__', '__package__', '__spec__', '_coerce', '_convert', '_decimal_sqrt_of_frac', '_exact_ratio', '_fail_neg', '_float_sqrt_of_frac', '_integer_sqrt_of_frac_rto', '_isfinite', '_mean_stdev', '_normal_dist_inv_cdf', '_sqrt_bit_width', '_ss', '_sum', 'bisect_left', 'bisect_right', 'correlation', 'covariance', 'defaultdict', 'erf', 'exp', 'fabs', 'fmean', 'fsum', 'geometric_mean', 'groupby', 'harmonic_mean', 'hypot', 'linear_regression', 'log', 'math', 'mean', 'median', 'median_grouped', 'median_high', 'median_low', 'mode', 'mul', 'multimode', 'namedtuple', 'numbers', 'pstdev', 'pvariance', 'quantiles', 'random', 'reduce', 'repeat', 'sqrt', 'stdev', 'sys', 'tau', 'variance']\n"
     ]
    }
   ],
   "source": [
    "import statistics as stat\n",
    "print(dir(stat))"
   ]
  },
  {
   "cell_type": "code",
   "execution_count": 16,
   "id": "71a1d9d2-7528-4c3f-8823-d039bdf3b1b3",
   "metadata": {},
   "outputs": [
    {
     "name": "stdout",
     "output_type": "stream",
     "text": [
      "80.66666666666667\n"
     ]
    }
   ],
   "source": [
    "score = [98,78,90,68,85,92,74,71,70]\n",
    "print(stat.mean(score))"
   ]
  },
  {
   "cell_type": "code",
   "execution_count": 17,
   "id": "11fe49bd-1c1a-4bf2-8b49-4e30bdab5010",
   "metadata": {},
   "outputs": [
    {
     "name": "stdout",
     "output_type": "stream",
     "text": [
      "80.67\n"
     ]
    }
   ],
   "source": [
    "print(round(stat.mean(score),2)) # rounding it up to 2 significant or decimal places"
   ]
  },
  {
   "cell_type": "code",
   "execution_count": 18,
   "id": "48ed1c09-fbf3-4336-9124-661df611821a",
   "metadata": {},
   "outputs": [
    {
     "name": "stdout",
     "output_type": "stream",
     "text": [
      "['BPF', 'LOG4', 'NV_MAGICCONST', 'RECIP_BPF', 'Random', 'SG_MAGICCONST', 'SystemRandom', 'TWOPI', '_ONE', '_Sequence', '_Set', '__all__', '__builtins__', '__cached__', '__doc__', '__file__', '__loader__', '__name__', '__package__', '__spec__', '_accumulate', '_acos', '_bisect', '_ceil', '_cos', '_e', '_exp', '_floor', '_index', '_inst', '_isfinite', '_log', '_os', '_pi', '_random', '_repeat', '_sha512', '_sin', '_sqrt', '_test', '_test_generator', '_urandom', '_warn', 'betavariate', 'choice', 'choices', 'expovariate', 'gammavariate', 'gauss', 'getrandbits', 'getstate', 'lognormvariate', 'normalvariate', 'paretovariate', 'randbytes', 'randint', 'random', 'randrange', 'sample', 'seed', 'setstate', 'shuffle', 'triangular', 'uniform', 'vonmisesvariate', 'weibullvariate']\n"
     ]
    }
   ],
   "source": [
    "import random\n",
    "print(dir(random))"
   ]
  },
  {
   "cell_type": "code",
   "execution_count": 20,
   "id": "6dddf680-2ecd-4cd9-a797-9f816083df38",
   "metadata": {},
   "outputs": [
    {
     "data": {
      "text/plain": [
       "[68, 85, 98, 74, 70, 71, 92, 78, 90]"
      ]
     },
     "execution_count": 20,
     "metadata": {},
     "output_type": "execute_result"
    }
   ],
   "source": [
    "random.shuffle(score)\n",
    "score"
   ]
  },
  {
   "cell_type": "code",
   "execution_count": 21,
   "id": "9ea99178-673b-4c60-aeaf-445e9a920e47",
   "metadata": {},
   "outputs": [
    {
     "data": {
      "text/plain": [
       "68"
      ]
     },
     "execution_count": 21,
     "metadata": {},
     "output_type": "execute_result"
    }
   ],
   "source": [
    "random.choice(score)"
   ]
  },
  {
   "cell_type": "markdown",
   "id": "ac52f5b5-4e89-4fd3-b6c4-e45585689bbe",
   "metadata": {},
   "source": [
    "# CONDITIONAL STATEMENT"
   ]
  },
  {
   "cell_type": "code",
   "execution_count": 22,
   "id": "fda38778-e91c-43f1-8621-d545368c1ced",
   "metadata": {},
   "outputs": [
    {
     "name": "stdin",
     "output_type": "stream",
     "text": [
      "Enter chicken weight in kg: 45\n"
     ]
    },
    {
     "name": "stdout",
     "output_type": "stream",
     "text": [
      "Weight Above 5 kg, you pay a delivery fee of #1500\n"
     ]
    }
   ],
   "source": [
    "weight = float(input('Enter chicken weight in kg:'))\n",
    "if weight > 5:\n",
    "    print('Weight Above 5 kg, you pay a delivery fee of #1500')\n",
    "# if only condition:: the set condition will execute the expression if the condition is found to be true\n",
    "# but no outcome if the condition is found to be false"
   ]
  },
  {
   "cell_type": "code",
   "execution_count": 23,
   "id": "4e869057-3329-476f-8e52-b68f81f92655",
   "metadata": {},
   "outputs": [
    {
     "name": "stdin",
     "output_type": "stream",
     "text": [
      "Enter chicken weight in kg: 1.5\n"
     ]
    },
    {
     "name": "stdout",
     "output_type": "stream",
     "text": [
      "Weight is below 5kg, Free delivery\n"
     ]
    }
   ],
   "source": [
    "weight = float(input('Enter chicken weight in kg:'))\n",
    "if weight > 5:\n",
    "    print('Weight Above 5 kg, you pay a delivery fee of #1500')\n",
    "else:\n",
    "    print('Weight is below 5kg, Free delivery')\n",
    "# if else: the expression under the if condition will be returned if the condition is true while the expression under the else\n",
    "# will be returned when the if condition is false"
   ]
  },
  {
   "cell_type": "code",
   "execution_count": 30,
   "id": "45579dbf-fd11-4ac2-9649-5430280df87b",
   "metadata": {},
   "outputs": [
    {
     "name": "stdin",
     "output_type": "stream",
     "text": [
      "Enter weather raining\n"
     ]
    },
    {
     "name": "stdout",
     "output_type": "stream",
     "text": [
      "weather is raining, take an umbrella\n"
     ]
    }
   ],
   "source": [
    "weather = str(input('Enter weather'))\n",
    "if weather == 'raining':\n",
    "    print('weather is raining, take an umbrella')\n",
    "else:\n",
    "    print('weather is not raining, dont take an umbrella')"
   ]
  },
  {
   "cell_type": "code",
   "execution_count": 32,
   "id": "e7faf59d-618a-4d0d-bf9a-429c3ce58962",
   "metadata": {},
   "outputs": [
    {
     "name": "stdin",
     "output_type": "stream",
     "text": [
      "Enter colour of light yellow\n"
     ]
    },
    {
     "name": "stdout",
     "output_type": "stream",
     "text": [
      "light is yellow, prepare to stop\n"
     ]
    }
   ],
   "source": [
    "light = str(input('Enter colour of light'))\n",
    "if light == 'green':\n",
    "    print('light is green, drive')\n",
    "if light == 'yellow':\n",
    "    print('light is yellow, prepare to stop')\n",
    "else:\n",
    "    print('light is red, stop the car')"
   ]
  },
  {
   "cell_type": "code",
   "execution_count": 34,
   "id": "6d03cfe1-4e3c-4d98-bb05-63300f165725",
   "metadata": {},
   "outputs": [
    {
     "name": "stdin",
     "output_type": "stream",
     "text": [
      "Enter sickness: fever\n"
     ]
    },
    {
     "name": "stdout",
     "output_type": "stream",
     "text": [
      "child has fever, keep them home\n"
     ]
    }
   ],
   "source": [
    "sickness = str(input('Enter sickness:'))\n",
    "if sickness == 'fever':\n",
    "    print('child has fever, keep them home')\n",
    "else:\n",
    "    print('sickness is not fever, send them to school')"
   ]
  },
  {
   "cell_type": "code",
   "execution_count": 35,
   "id": "6af41ee6-5592-42ca-be28-7bb76cdae77c",
   "metadata": {},
   "outputs": [
    {
     "name": "stdin",
     "output_type": "stream",
     "text": [
      "Enter the amount in $: 89\n"
     ]
    },
    {
     "name": "stdout",
     "output_type": "stream",
     "text": [
      "amount is below 100 $, pay full price\n"
     ]
    }
   ],
   "source": [
    "amount = float(input('Enter the amount in $:'))\n",
    "if amount > 100:\n",
    "    print('amount is above 100 $, apply a discount')\n",
    "else:\n",
    "    print('amount is below 100 $, pay full price')"
   ]
  },
  {
   "cell_type": "code",
   "execution_count": 36,
   "id": "6dd85d73-f7c8-47d9-bb25-c8bd9d55f0a1",
   "metadata": {},
   "outputs": [
    {
     "name": "stdin",
     "output_type": "stream",
     "text": [
      "Enter daily_plan: weekend\n"
     ]
    },
    {
     "name": "stdout",
     "output_type": "stream",
     "text": [
      "daily_plan is not a weekday, do a yoga session\n"
     ]
    }
   ],
   "source": [
    "daily_plan =str(input('Enter daily_plan:'))\n",
    "if daily_plan == 'weekday':\n",
    "    print('daily_plan a weekday, stay at home')\n",
    "else:\n",
    "    print('daily_plan is not a weekday, do a yoga session')"
   ]
  },
  {
   "cell_type": "code",
   "execution_count": 37,
   "id": "185b3396-b537-4471-b5c5-04fccd0daeb0",
   "metadata": {},
   "outputs": [
    {
     "name": "stdin",
     "output_type": "stream",
     "text": [
      "Enter daily_plan: wednesday\n"
     ]
    },
    {
     "name": "stdout",
     "output_type": "stream",
     "text": [
      "daily_plan is not a weekday, do a yoga session\n"
     ]
    }
   ],
   "source": [
    "daily_plan =str(input('Enter daily_plan:'))\n",
    "if daily_plan == 'saturday''sunday':\n",
    "    print('daily_plan a weekday, stay at home')\n",
    "else:\n",
    "    print('daily_plan is not a weekday, do a yoga session')"
   ]
  },
  {
   "cell_type": "code",
   "execution_count": 40,
   "id": "3980a842-9336-4112-9b0a-8a1cd023f1d2",
   "metadata": {},
   "outputs": [
    {
     "name": "stdin",
     "output_type": "stream",
     "text": [
      "Enter Yes if it is rain and No if it is not raining: No\n"
     ]
    },
    {
     "name": "stdout",
     "output_type": "stream",
     "text": [
      "Enjoy your day without one\n"
     ]
    }
   ],
   "source": [
    "weather_decision = str(input('Enter Yes if it is rain and No if it is not raining:' )).lower()\n",
    "if weather_decision == 'yes':\n",
    "    print('Take an umbrella')\n",
    "else:\n",
    "    print('Enjoy your day without one')\n",
    "# his own method of doing it"
   ]
  },
  {
   "cell_type": "code",
   "execution_count": 41,
   "id": "78efe95f-9ac4-49b3-ac6e-2622c1f0c423",
   "metadata": {},
   "outputs": [
    {
     "name": "stdin",
     "output_type": "stream",
     "text": [
      "enter the traffic light response [green, yellow,red] yellow\n"
     ]
    },
    {
     "name": "stdout",
     "output_type": "stream",
     "text": [
      "Prepare to drive\n"
     ]
    }
   ],
   "source": [
    "response = str(input('enter the traffic light response [green, yellow,red]'))\n",
    "if response == 'green':\n",
    "    print('Drive')\n",
    "if response == 'yellow':\n",
    "    print('Prepare to drive')\n",
    "else:\n",
    "    print('Stop the car')\n",
    "# his own method of doing it"
   ]
  },
  {
   "cell_type": "code",
   "execution_count": 42,
   "id": "f7be2dfc-009c-4377-8a07-748e8273fcbc",
   "metadata": {},
   "outputs": [
    {
     "name": "stdin",
     "output_type": "stream",
     "text": [
      "Enter Day of the week: sunday\n"
     ]
    },
    {
     "name": "stdout",
     "output_type": "stream",
     "text": [
      "do a yoga session\n"
     ]
    }
   ],
   "source": [
    "days = str(input('Enter Day of the week:')).lower()\n",
    "if days == 'monday' or days == 'tuesday' or days == 'wednesday' or days == 'thursday' or days == 'friday':\n",
    "    print('Go for a run')\n",
    "else:\n",
    "    print('do a yoga session')"
   ]
  },
  {
   "cell_type": "code",
   "execution_count": 43,
   "id": "653ee0bb-f701-4698-a3b7-c4022b0745d1",
   "metadata": {},
   "outputs": [
    {
     "name": "stdin",
     "output_type": "stream",
     "text": [
      "Enter Day of the week: wednesday\n"
     ]
    },
    {
     "name": "stdout",
     "output_type": "stream",
     "text": [
      "Go for a run\n"
     ]
    }
   ],
   "source": [
    "days = str(input('Enter Day of the week:')).lower()\n",
    "if days == 'monday' or days == 'tuesday' or days == 'wednesday' or days == 'thursday' or days == 'friday':\n",
    "    print('Go for a run')\n",
    "else:\n",
    "    print('do a yoga session')"
   ]
  },
  {
   "cell_type": "code",
   "execution_count": null,
   "id": "36b6cede-0d09-4b3b-bd97-35ff9929935b",
   "metadata": {},
   "outputs": [],
   "source": []
  }
 ],
 "metadata": {
  "kernelspec": {
   "display_name": "Python 3 (ipykernel)",
   "language": "python",
   "name": "python3"
  },
  "language_info": {
   "codemirror_mode": {
    "name": "ipython",
    "version": 3
   },
   "file_extension": ".py",
   "mimetype": "text/x-python",
   "name": "python",
   "nbconvert_exporter": "python",
   "pygments_lexer": "ipython3",
   "version": "3.11.7"
  }
 },
 "nbformat": 4,
 "nbformat_minor": 5
}
